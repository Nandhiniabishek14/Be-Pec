{
 "cells": [
  {
   "cell_type": "markdown",
   "id": "5766814a",
   "metadata": {},
   "source": [
    "# tuple"
   ]
  },
  {
   "cell_type": "code",
   "execution_count": 3,
   "id": "3be45044",
   "metadata": {},
   "outputs": [
    {
     "name": "stdout",
     "output_type": "stream",
     "text": [
      "(89,)\n"
     ]
    }
   ],
   "source": [
    "#empty tuple\n",
    "tupl1=()\n",
    "\n",
    "#tuple with single data \n",
    "tupl1=(89,)#this is for single entry in tuple to add ,\n",
    "print(tupl1)"
   ]
  },
  {
   "cell_type": "code",
   "execution_count": 4,
   "id": "2464264a",
   "metadata": {},
   "outputs": [],
   "source": [
    "#tuple of strings\n",
    "tupl2=(\"hi\",\"hello\",\"how are you\")"
   ]
  },
  {
   "cell_type": "code",
   "execution_count": 5,
   "id": "f0ba1866",
   "metadata": {},
   "outputs": [
    {
     "data": {
      "text/plain": [
       "('hi', 'hello', 'how are you')"
      ]
     },
     "execution_count": 5,
     "metadata": {},
     "output_type": "execute_result"
    }
   ],
   "source": [
    "tupl2"
   ]
  },
  {
   "cell_type": "code",
   "execution_count": 6,
   "id": "28089027",
   "metadata": {},
   "outputs": [],
   "source": [
    "tupl3=(1,5,5.5,\"hello world\")"
   ]
  },
  {
   "cell_type": "code",
   "execution_count": 7,
   "id": "2d940fb7",
   "metadata": {},
   "outputs": [
    {
     "data": {
      "text/plain": [
       "(1, 5, 5.5, 'hello world')"
      ]
     },
     "execution_count": 7,
     "metadata": {},
     "output_type": "execute_result"
    }
   ],
   "source": [
    "tupl3"
   ]
  },
  {
   "cell_type": "code",
   "execution_count": 8,
   "id": "ac57089b",
   "metadata": {},
   "outputs": [],
   "source": [
    "#nested tuples\n",
    "#tuples inside another tuples\n",
    "tupl4=((2,4,56,7),(3,5,6,87))"
   ]
  },
  {
   "cell_type": "code",
   "execution_count": 9,
   "id": "84441f82",
   "metadata": {},
   "outputs": [
    {
     "data": {
      "text/plain": [
       "4"
      ]
     },
     "execution_count": 9,
     "metadata": {},
     "output_type": "execute_result"
    }
   ],
   "source": [
    "tupl4[0][1]"
   ]
  },
  {
   "cell_type": "code",
   "execution_count": 11,
   "id": "35c8fbe7",
   "metadata": {},
   "outputs": [
    {
     "ename": "TypeError",
     "evalue": "'tuple' object does not support item assignment",
     "output_type": "error",
     "traceback": [
      "\u001b[0;31m---------------------------------------------------------------------------\u001b[0m",
      "\u001b[0;31mTypeError\u001b[0m                                 Traceback (most recent call last)",
      "Cell \u001b[0;32mIn[11], line 1\u001b[0m\n\u001b[0;32m----> 1\u001b[0m tupl4[\u001b[38;5;241m0\u001b[39m][\u001b[38;5;241m1\u001b[39m]\u001b[38;5;241m=\u001b[39m\u001b[38;5;241m5\u001b[39m\n\u001b[1;32m      2\u001b[0m tupl4\n",
      "\u001b[0;31mTypeError\u001b[0m: 'tuple' object does not support item assignment"
     ]
    }
   ],
   "source": [
    "tupl4[0][1]=5\n",
    "tupl4"
   ]
  },
  {
   "cell_type": "code",
   "execution_count": 13,
   "id": "ccdf3a73",
   "metadata": {},
   "outputs": [
    {
     "name": "stdout",
     "output_type": "stream",
     "text": [
      "A Blank Tuple: ()\n",
      "the tuple without brackets: (33, 55, 77, 88, 99) type: <class 'tuple'>\n",
      "the tuple with numbers: (33, 55, 77, 88, 99)\n",
      "the tuple with a mixed numbers: (3, 4, 5, 6, 8.9, 9.9, (3+3j))\n",
      "the tuples with mixed data types: (3, 6, 'hello', [4, 5, 67, 9])\n"
     ]
    }
   ],
   "source": [
    "#we can create empty tuple\n",
    "pr_tuple=()\n",
    "print(\"A Blank Tuple:\",pr_tuple)\n",
    "\n",
    "#creating a tuple without round brackets\n",
    "pr_tuple=33,55,77,88,99\n",
    "print(\"the tuple without brackets:\",pr_tuple,\"type:\",type(pr_tuple))\n",
    "\n",
    "#create a tuple with a numbers\n",
    "pr_tuple=(33,55,77,88,99)\n",
    "print(\"the tuple with numbers:\",pr_tuple)\n",
    "\n",
    "#create a tuple of mixed numbers\n",
    "#float,integer,imaginary\n",
    "pr_tuple=(3,4,5,6,8.9,9.9,3+3j)\n",
    "print(\"the tuple with a mixed numbers:\",pr_tuple)\n",
    "\n",
    "\n",
    "#create a tuple of mixed data types\n",
    "#using numbers,strings,list\n",
    "pr_tuple=(3,6,\"hello\",[4,5,67,9])\n",
    "print(\"the tuples with mixed data types:\",pr_tuple)\n",
    "\n",
    "#create a tuple of tuples\n",
    "#nested tuples\n",
    "pr_tuple=((5,6,78,9),(2,3,4,5),(7,9,10,12))"
   ]
  },
  {
   "cell_type": "code",
   "execution_count": 14,
   "id": "0da519ca",
   "metadata": {},
   "outputs": [],
   "source": [
    "#type casting\n",
    "#set to tuple can be created\n",
    "tup_v=tuple({4,5,6,7,8})"
   ]
  },
  {
   "cell_type": "code",
   "execution_count": 15,
   "id": "a29c10eb",
   "metadata": {},
   "outputs": [
    {
     "data": {
      "text/plain": [
       "tuple"
      ]
     },
     "execution_count": 15,
     "metadata": {},
     "output_type": "execute_result"
    }
   ],
   "source": [
    "type(tup_v)"
   ]
  },
  {
   "cell_type": "code",
   "execution_count": 20,
   "id": "d2345e22",
   "metadata": {},
   "outputs": [],
   "source": [
    "#creating a tuple from list\n",
    "tup_p=tuple([9,10])"
   ]
  },
  {
   "cell_type": "code",
   "execution_count": 17,
   "id": "209f6c90",
   "metadata": {},
   "outputs": [
    {
     "data": {
      "text/plain": [
       "tuple"
      ]
     },
     "execution_count": 17,
     "metadata": {},
     "output_type": "execute_result"
    }
   ],
   "source": [
    "type(tup_v)"
   ]
  },
  {
   "cell_type": "code",
   "execution_count": 18,
   "id": "eda43154",
   "metadata": {},
   "outputs": [
    {
     "data": {
      "text/plain": [
       "(4, 5, 6, 7, 8)"
      ]
     },
     "execution_count": 18,
     "metadata": {},
     "output_type": "execute_result"
    }
   ],
   "source": [
    "tup_v"
   ]
  },
  {
   "cell_type": "code",
   "execution_count": 21,
   "id": "06a7e7c6",
   "metadata": {},
   "outputs": [
    {
     "data": {
      "text/plain": [
       "(9, 10)"
      ]
     },
     "execution_count": 21,
     "metadata": {},
     "output_type": "execute_result"
    }
   ],
   "source": [
    "tup_p"
   ]
  },
  {
   "cell_type": "code",
   "execution_count": 22,
   "id": "3c09ea42",
   "metadata": {},
   "outputs": [],
   "source": [
    "#single element in the tuple can be created using , after the single element.\n",
    "pr=('story')"
   ]
  },
  {
   "cell_type": "code",
   "execution_count": 23,
   "id": "c0cb911e",
   "metadata": {},
   "outputs": [
    {
     "data": {
      "text/plain": [
       "str"
      ]
     },
     "execution_count": 23,
     "metadata": {},
     "output_type": "execute_result"
    }
   ],
   "source": [
    "type(pr)"
   ]
  },
  {
   "cell_type": "code",
   "execution_count": 24,
   "id": "37e1490b",
   "metadata": {},
   "outputs": [],
   "source": [
    "pr=('story',)"
   ]
  },
  {
   "cell_type": "code",
   "execution_count": 25,
   "id": "55e81e89",
   "metadata": {},
   "outputs": [
    {
     "data": {
      "text/plain": [
       "tuple"
      ]
     },
     "execution_count": 25,
     "metadata": {},
     "output_type": "execute_result"
    }
   ],
   "source": [
    "type(pr)"
   ]
  },
  {
   "cell_type": "code",
   "execution_count": 26,
   "id": "cc9ed091",
   "metadata": {},
   "outputs": [
    {
     "data": {
      "text/plain": [
       "tuple"
      ]
     },
     "execution_count": 26,
     "metadata": {},
     "output_type": "execute_result"
    }
   ],
   "source": [
    "#one element in the list can be converted to tuple\n",
    "\n",
    "os=tuple(['single element'])\n",
    "type(os)"
   ]
  },
  {
   "cell_type": "code",
   "execution_count": 27,
   "id": "61ac8fc9",
   "metadata": {},
   "outputs": [
    {
     "data": {
      "text/plain": [
       "5"
      ]
     },
     "execution_count": 27,
     "metadata": {},
     "output_type": "execute_result"
    }
   ],
   "source": [
    "#indexing\n",
    "tup_v[1]"
   ]
  },
  {
   "cell_type": "code",
   "execution_count": 29,
   "id": "5f4a472a",
   "metadata": {},
   "outputs": [
    {
     "ename": "TypeError",
     "evalue": "'tuple' object does not support item assignment",
     "output_type": "error",
     "traceback": [
      "\u001b[0;31m---------------------------------------------------------------------------\u001b[0m",
      "\u001b[0;31mTypeError\u001b[0m                                 Traceback (most recent call last)",
      "Cell \u001b[0;32mIn[29], line 1\u001b[0m\n\u001b[0;32m----> 1\u001b[0m tup_v[\u001b[38;5;241m1\u001b[39m]\u001b[38;5;241m=\u001b[39m\u001b[38;5;241m7\u001b[39m\n",
      "\u001b[0;31mTypeError\u001b[0m: 'tuple' object does not support item assignment"
     ]
    }
   ],
   "source": [
    "tup_v[1]=7"
   ]
  },
  {
   "cell_type": "code",
   "execution_count": 30,
   "id": "74c9c10f",
   "metadata": {},
   "outputs": [],
   "source": [
    "#changing the element in the tuple is not possible\n"
   ]
  },
  {
   "cell_type": "code",
   "execution_count": 31,
   "id": "41ea5a4a",
   "metadata": {},
   "outputs": [],
   "source": [
    "month=('jan','feb','mar','april','may','june','july','august')\n"
   ]
  },
  {
   "cell_type": "code",
   "execution_count": 32,
   "id": "4deec9cc",
   "metadata": {},
   "outputs": [
    {
     "data": {
      "text/plain": [
       "('jan', 'feb', 'mar', 'april', 'may', 'june', 'july', 'august')"
      ]
     },
     "execution_count": 32,
     "metadata": {},
     "output_type": "execute_result"
    }
   ],
   "source": [
    "month"
   ]
  },
  {
   "cell_type": "code",
   "execution_count": 34,
   "id": "197b1c29",
   "metadata": {},
   "outputs": [
    {
     "data": {
      "text/plain": [
       "'august'"
      ]
     },
     "execution_count": 34,
     "metadata": {},
     "output_type": "execute_result"
    }
   ],
   "source": [
    "month[-1]"
   ]
  },
  {
   "cell_type": "code",
   "execution_count": 35,
   "id": "925b7daa",
   "metadata": {},
   "outputs": [
    {
     "name": "stdout",
     "output_type": "stream",
     "text": [
      "n\n",
      "mar\n",
      "('jan', 'feb', 'mar', 'april')\n",
      "('jan', 'feb', 'mar', 'april', 'may', 'june', 'july')\n"
     ]
    }
   ],
   "source": [
    "print(month[0][-1])\n",
    "print(month[2])\n",
    "print(month[:4])\n",
    "print(month[:-1])"
   ]
  },
  {
   "cell_type": "code",
   "execution_count": 36,
   "id": "47fb7a9a",
   "metadata": {},
   "outputs": [
    {
     "name": "stdout",
     "output_type": "stream",
     "text": [
      "the length of tuple 8\n"
     ]
    }
   ],
   "source": [
    "print(\"the length of tuple\",len(month))"
   ]
  },
  {
   "cell_type": "code",
   "execution_count": 3,
   "id": "fa688c1e",
   "metadata": {},
   "outputs": [
    {
     "data": {
      "text/plain": [
       "[7]"
      ]
     },
     "execution_count": 3,
     "metadata": {},
     "output_type": "execute_result"
    }
   ],
   "source": [
    "month=('jan','feb','mar','april','may','june','july','august')\n",
    "[len(month)-1]"
   ]
  },
  {
   "cell_type": "markdown",
   "id": "ac911179",
   "metadata": {},
   "source": [
    "len(month)"
   ]
  },
  {
   "cell_type": "code",
   "execution_count": 4,
   "id": "29a9789a",
   "metadata": {},
   "outputs": [
    {
     "data": {
      "text/plain": [
       "8"
      ]
     },
     "execution_count": 4,
     "metadata": {},
     "output_type": "execute_result"
    }
   ],
   "source": [
    "len(month)"
   ]
  },
  {
   "cell_type": "code",
   "execution_count": 5,
   "id": "d59b8c73",
   "metadata": {},
   "outputs": [
    {
     "data": {
      "text/plain": [
       "'august'"
      ]
     },
     "execution_count": 5,
     "metadata": {},
     "output_type": "execute_result"
    }
   ],
   "source": [
    "month[len(month)-1]"
   ]
  },
  {
   "cell_type": "code",
   "execution_count": 6,
   "id": "227822aa",
   "metadata": {},
   "outputs": [
    {
     "data": {
      "text/plain": [
       "'august'"
      ]
     },
     "execution_count": 6,
     "metadata": {},
     "output_type": "execute_result"
    }
   ],
   "source": [
    "month[7]"
   ]
  },
  {
   "cell_type": "code",
   "execution_count": 8,
   "id": "c1e17a89",
   "metadata": {},
   "outputs": [
    {
     "name": "stdout",
     "output_type": "stream",
     "text": [
      "august\n"
     ]
    }
   ],
   "source": [
    "#reverse indexing\n",
    "print(month[-1])"
   ]
  },
  {
   "cell_type": "code",
   "execution_count": 9,
   "id": "438abadf",
   "metadata": {},
   "outputs": [
    {
     "name": "stdout",
     "output_type": "stream",
     "text": [
      "june\n"
     ]
    }
   ],
   "source": [
    "print(month[-3])"
   ]
  },
  {
   "cell_type": "code",
   "execution_count": 10,
   "id": "9dea18be",
   "metadata": {},
   "outputs": [
    {
     "data": {
      "text/plain": [
       "('jan', 'feb', 'mar', 'april', 'may', 'june', 'july', 'august')"
      ]
     },
     "execution_count": 10,
     "metadata": {},
     "output_type": "execute_result"
    }
   ],
   "source": [
    "month[:]"
   ]
  },
  {
   "cell_type": "code",
   "execution_count": 11,
   "id": "454db2a5",
   "metadata": {},
   "outputs": [
    {
     "data": {
      "text/plain": [
       "'may'"
      ]
     },
     "execution_count": 11,
     "metadata": {},
     "output_type": "execute_result"
    }
   ],
   "source": [
    "month[-4]"
   ]
  },
  {
   "cell_type": "code",
   "execution_count": 12,
   "id": "0383527e",
   "metadata": {},
   "outputs": [
    {
     "name": "stdout",
     "output_type": "stream",
     "text": [
      "9.2\n"
     ]
    }
   ],
   "source": [
    "new_data=(9,10,11,12,13,\"tree\",9.2)\n",
    "print(new_data[-1])"
   ]
  },
  {
   "cell_type": "code",
   "execution_count": 13,
   "id": "b40c48c6",
   "metadata": {},
   "outputs": [
    {
     "data": {
      "text/plain": [
       "(10, 11, 12)"
      ]
     },
     "execution_count": 13,
     "metadata": {},
     "output_type": "execute_result"
    }
   ],
   "source": [
    "new_data[1:4]"
   ]
  },
  {
   "cell_type": "code",
   "execution_count": 14,
   "id": "d1f8e3cd",
   "metadata": {},
   "outputs": [
    {
     "data": {
      "text/plain": [
       "(9, 10, 11)"
      ]
     },
     "execution_count": 14,
     "metadata": {},
     "output_type": "execute_result"
    }
   ],
   "source": [
    "new_data[:3]"
   ]
  },
  {
   "cell_type": "code",
   "execution_count": 15,
   "id": "de1f2e8d",
   "metadata": {},
   "outputs": [],
   "source": [
    "#accessing the elements from nested tuples\n",
    "my_new=(1,[9,101,22],\"new world\")"
   ]
  },
  {
   "cell_type": "code",
   "execution_count": 16,
   "id": "a750650c",
   "metadata": {},
   "outputs": [
    {
     "name": "stdout",
     "output_type": "stream",
     "text": [
      "(1, [9, 101, 22], 'new world')\n"
     ]
    }
   ],
   "source": [
    "print(my_new)"
   ]
  },
  {
   "cell_type": "code",
   "execution_count": 17,
   "id": "40d9ea30",
   "metadata": {},
   "outputs": [
    {
     "ename": "TypeError",
     "evalue": "'tuple' object does not support item assignment",
     "output_type": "error",
     "traceback": [
      "\u001b[0;31m---------------------------------------------------------------------------\u001b[0m",
      "\u001b[0;31mTypeError\u001b[0m                                 Traceback (most recent call last)",
      "Cell \u001b[0;32mIn[17], line 1\u001b[0m\n\u001b[0;32m----> 1\u001b[0m my_new[\u001b[38;5;241m0\u001b[39m]\u001b[38;5;241m=\u001b[39m\u001b[38;5;241m9\u001b[39m\n",
      "\u001b[0;31mTypeError\u001b[0m: 'tuple' object does not support item assignment"
     ]
    }
   ],
   "source": [
    "my_new[0]=9"
   ]
  },
  {
   "cell_type": "code",
   "execution_count": 18,
   "id": "a72af0b7",
   "metadata": {},
   "outputs": [],
   "source": [
    "my_new[1][0]=\"hh\""
   ]
  },
  {
   "cell_type": "code",
   "execution_count": 19,
   "id": "33a98904",
   "metadata": {},
   "outputs": [
    {
     "name": "stdout",
     "output_type": "stream",
     "text": [
      "(1, ['hh', 101, 22], 'new world')\n"
     ]
    }
   ],
   "source": [
    "print(my_new)"
   ]
  },
  {
   "cell_type": "code",
   "execution_count": 20,
   "id": "09a0e672",
   "metadata": {},
   "outputs": [
    {
     "ename": "AttributeError",
     "evalue": "'tuple' object has no attribute 'remove'",
     "output_type": "error",
     "traceback": [
      "\u001b[0;31m---------------------------------------------------------------------------\u001b[0m",
      "\u001b[0;31mAttributeError\u001b[0m                            Traceback (most recent call last)",
      "Cell \u001b[0;32mIn[20], line 1\u001b[0m\n\u001b[0;32m----> 1\u001b[0m \u001b[43mmy_new\u001b[49m\u001b[38;5;241;43m.\u001b[39;49m\u001b[43mremove\u001b[49m(\u001b[38;5;124m\"\u001b[39m\u001b[38;5;124m1\u001b[39m\u001b[38;5;124m\"\u001b[39m)\n",
      "\u001b[0;31mAttributeError\u001b[0m: 'tuple' object has no attribute 'remove'"
     ]
    }
   ],
   "source": [
    "my_new.remove(\"1\")"
   ]
  },
  {
   "cell_type": "code",
   "execution_count": 22,
   "id": "54e35088",
   "metadata": {},
   "outputs": [],
   "source": [
    "del my_new"
   ]
  },
  {
   "cell_type": "code",
   "execution_count": 23,
   "id": "40abaaeb",
   "metadata": {},
   "outputs": [
    {
     "ename": "NameError",
     "evalue": "name 'my_new' is not defined",
     "output_type": "error",
     "traceback": [
      "\u001b[0;31m---------------------------------------------------------------------------\u001b[0m",
      "\u001b[0;31mNameError\u001b[0m                                 Traceback (most recent call last)",
      "Cell \u001b[0;32mIn[23], line 1\u001b[0m\n\u001b[0;32m----> 1\u001b[0m \u001b[43mmy_new\u001b[49m\n",
      "\u001b[0;31mNameError\u001b[0m: name 'my_new' is not defined"
     ]
    }
   ],
   "source": [
    "my_new\n"
   ]
  },
  {
   "cell_type": "code",
   "execution_count": 24,
   "id": "d6784c64",
   "metadata": {},
   "outputs": [
    {
     "ename": "NameError",
     "evalue": "name 'my_new' is not defined",
     "output_type": "error",
     "traceback": [
      "\u001b[0;31m---------------------------------------------------------------------------\u001b[0m",
      "\u001b[0;31mNameError\u001b[0m                                 Traceback (most recent call last)",
      "Cell \u001b[0;32mIn[24], line 1\u001b[0m\n\u001b[0;32m----> 1\u001b[0m \u001b[38;5;28mprint\u001b[39m(\u001b[43mmy_new\u001b[49m[:])\n",
      "\u001b[0;31mNameError\u001b[0m: name 'my_new' is not defined"
     ]
    }
   ],
   "source": [
    "print(my_new[:])"
   ]
  },
  {
   "cell_type": "code",
   "execution_count": 25,
   "id": "33bbcdd8",
   "metadata": {},
   "outputs": [
    {
     "name": "stdout",
     "output_type": "stream",
     "text": [
      "('jan', 'feb', 'mar', 'april', 'may', 'june', 'july', 'august')\n"
     ]
    }
   ],
   "source": [
    "print(month[:])"
   ]
  },
  {
   "cell_type": "code",
   "execution_count": 27,
   "id": "623b2b6c",
   "metadata": {},
   "outputs": [
    {
     "name": "stdout",
     "output_type": "stream",
     "text": [
      "True\n"
     ]
    }
   ],
   "source": [
    "#membership test in tuple\n",
    "print('jan' in month )"
   ]
  },
  {
   "cell_type": "code",
   "execution_count": 28,
   "id": "5d9cbfa5",
   "metadata": {},
   "outputs": [
    {
     "name": "stdout",
     "output_type": "stream",
     "text": [
      "False\n"
     ]
    }
   ],
   "source": [
    "print(10 in month)"
   ]
  },
  {
   "cell_type": "code",
   "execution_count": 34,
   "id": "f0bfeb3e",
   "metadata": {},
   "outputs": [
    {
     "name": "stdout",
     "output_type": "stream",
     "text": [
      "jan\n",
      "mar\n",
      "april\n",
      "may\n",
      "august\n"
     ]
    }
   ],
   "source": [
    "for x in month:\n",
    "    if 'a' in x:\n",
    "        print(x)"
   ]
  },
  {
   "cell_type": "code",
   "execution_count": 36,
   "id": "9cd0bd04",
   "metadata": {},
   "outputs": [
    {
     "name": "stdout",
     "output_type": "stream",
     "text": [
      "1\n"
     ]
    }
   ],
   "source": [
    "#count\n",
    "print(month.count('feb'))"
   ]
  },
  {
   "cell_type": "code",
   "execution_count": 37,
   "id": "c47c5b42",
   "metadata": {},
   "outputs": [
    {
     "name": "stdout",
     "output_type": "stream",
     "text": [
      "1\n"
     ]
    }
   ],
   "source": [
    "print(month.index('feb'))"
   ]
  },
  {
   "cell_type": "code",
   "execution_count": 38,
   "id": "40cbc565",
   "metadata": {},
   "outputs": [
    {
     "data": {
      "text/plain": [
       "'/Users/Nandhini'"
      ]
     },
     "execution_count": 38,
     "metadata": {},
     "output_type": "execute_result"
    }
   ],
   "source": [
    "pwd\n"
   ]
  },
  {
   "cell_type": "code",
   "execution_count": 39,
   "id": "acccd5db",
   "metadata": {},
   "outputs": [
    {
     "data": {
      "text/plain": [
       "['ineuron python assignment 2 .ipynb',\n",
       " '.config',\n",
       " 'Music',\n",
       " '.condarc',\n",
       " 'python Basics Day - 4 - -SETS.ipynb',\n",
       " 'Different Data Structures.ipynb',\n",
       " 'Untitled1.ipynb',\n",
       " '.DS_Store',\n",
       " 'Lists in Python--4.ipynb',\n",
       " '.CFUserTextEncoding',\n",
       " '.xonshrc',\n",
       " '.jssc',\n",
       " 'Untitled.ipynb',\n",
       " '.zshrc',\n",
       " 'Programming Assignment_1 (2) (1).ipynb',\n",
       " 'Basics of Python v2.ipynb',\n",
       " 'python bepec 1 nan.ipynb',\n",
       " 'Creative Cloud Files',\n",
       " 'python-Basics - DICT.ipynb',\n",
       " 'Pictures',\n",
       " 'Python Basics Day -- 4-TUPLES.ipynb',\n",
       " 'Loops in python.ipynb',\n",
       " 'workspace_v8',\n",
       " 'Samsung',\n",
       " '.ipython',\n",
       " 'Desktop',\n",
       " 'Library',\n",
       " 'tuple set work beeps.ipynb',\n",
       " '.matplotlib',\n",
       " 'If Statement-4 (1).ipynb',\n",
       " '.oracle_jre_usage',\n",
       " 'python Bepec 2 nan.ipynb',\n",
       " '.cups',\n",
       " 'Sites',\n",
       " '.bash_sessions',\n",
       " '.ti',\n",
       " '.TI-trace',\n",
       " 'Public',\n",
       " 'Programming Assignment_11.ipynb',\n",
       " 'Programming Assignment_3.ipynb',\n",
       " '.idlerc',\n",
       " '.tcshrc',\n",
       " '.anaconda',\n",
       " 'Movies',\n",
       " 'Applications',\n",
       " 'ineuron python assignment 1.ipynb',\n",
       " '.489450.padl',\n",
       " '.Trash',\n",
       " '.ipynb_checkpoints',\n",
       " '.jupyter',\n",
       " 'Documents',\n",
       " '.bash_profile',\n",
       " 'anaconda3',\n",
       " 'Downloads',\n",
       " '.python_history',\n",
       " '.continuum',\n",
       " '.bash_history',\n",
       " '.conda',\n",
       " 'ti']"
      ]
     },
     "execution_count": 39,
     "metadata": {},
     "output_type": "execute_result"
    }
   ],
   "source": [
    "import os\n",
    "os.listdir(\"./\")"
   ]
  },
  {
   "cell_type": "markdown",
   "id": "233672a2",
   "metadata": {},
   "source": [
    "# set"
   ]
  },
  {
   "cell_type": "code",
   "execution_count": 40,
   "id": "61a3842e",
   "metadata": {},
   "outputs": [],
   "source": [
    "set1={5,9,13,15,6,15,20,2,5,9}"
   ]
  },
  {
   "cell_type": "code",
   "execution_count": 41,
   "id": "e4f741b4",
   "metadata": {},
   "outputs": [
    {
     "ename": "NameError",
     "evalue": "name 'det1' is not defined",
     "output_type": "error",
     "traceback": [
      "\u001b[0;31m---------------------------------------------------------------------------\u001b[0m",
      "\u001b[0;31mNameError\u001b[0m                                 Traceback (most recent call last)",
      "Cell \u001b[0;32mIn[41], line 1\u001b[0m\n\u001b[0;32m----> 1\u001b[0m \u001b[43mdet1\u001b[49m\n",
      "\u001b[0;31mNameError\u001b[0m: name 'det1' is not defined"
     ]
    }
   ],
   "source": [
    "det1"
   ]
  },
  {
   "cell_type": "code",
   "execution_count": null,
   "id": "521e1a47",
   "metadata": {},
   "outputs": [],
   "source": []
  },
  {
   "cell_type": "code",
   "execution_count": 42,
   "id": "c7079cb7",
   "metadata": {},
   "outputs": [
    {
     "data": {
      "text/plain": [
       "{2, 5, 6, 9, 13, 15, 20}"
      ]
     },
     "execution_count": 42,
     "metadata": {},
     "output_type": "execute_result"
    }
   ],
   "source": [
    "set1"
   ]
  },
  {
   "cell_type": "code",
   "execution_count": 43,
   "id": "bf36f5fc",
   "metadata": {},
   "outputs": [],
   "source": [
    "set2={1.0,\"helo\",(1,3,5)}"
   ]
  },
  {
   "cell_type": "code",
   "execution_count": 44,
   "id": "203c1f70",
   "metadata": {},
   "outputs": [
    {
     "data": {
      "text/plain": [
       "{(1, 3, 5), 1.0, 'helo'}"
      ]
     },
     "execution_count": 44,
     "metadata": {},
     "output_type": "execute_result"
    }
   ],
   "source": [
    "set2"
   ]
  },
  {
   "cell_type": "code",
   "execution_count": 45,
   "id": "adc10cd8",
   "metadata": {},
   "outputs": [
    {
     "name": "stdout",
     "output_type": "stream",
     "text": [
      "{1.0, 'helo', (1, 3, 5)}\n",
      "0.0006120204925537109\n"
     ]
    }
   ],
   "source": [
    "import time\n",
    "start=time.time()\n",
    "set2={1.0,\"helo\",(1,3,5)}\n",
    "print(set2)\n",
    "print(time.time()-start)"
   ]
  },
  {
   "cell_type": "code",
   "execution_count": 46,
   "id": "0b2683e2",
   "metadata": {},
   "outputs": [
    {
     "name": "stdout",
     "output_type": "stream",
     "text": [
      "{1.0, 'helo', (1, 3, 5)}\n"
     ]
    }
   ],
   "source": [
    "set2={1.0,\"helo\",(1,3,5)}#create set multiple datatype\n",
    "print(set2)"
   ]
  },
  {
   "cell_type": "code",
   "execution_count": 47,
   "id": "97fe459d",
   "metadata": {},
   "outputs": [
    {
     "ename": "TypeError",
     "evalue": "'set' object is not subscriptable",
     "output_type": "error",
     "traceback": [
      "\u001b[0;31m---------------------------------------------------------------------------\u001b[0m",
      "\u001b[0;31mTypeError\u001b[0m                                 Traceback (most recent call last)",
      "Cell \u001b[0;32mIn[47], line 1\u001b[0m\n\u001b[0;32m----> 1\u001b[0m \u001b[43mset2\u001b[49m\u001b[43m[\u001b[49m\u001b[38;5;241;43m0\u001b[39;49m\u001b[43m]\u001b[49m\n",
      "\u001b[0;31mTypeError\u001b[0m: 'set' object is not subscriptable"
     ]
    }
   ],
   "source": [
    "set2[0]"
   ]
  },
  {
   "cell_type": "code",
   "execution_count": 48,
   "id": "a3ac40ac",
   "metadata": {},
   "outputs": [
    {
     "ename": "TypeError",
     "evalue": "set.add() takes exactly one argument (2 given)",
     "output_type": "error",
     "traceback": [
      "\u001b[0;31m---------------------------------------------------------------------------\u001b[0m",
      "\u001b[0;31mTypeError\u001b[0m                                 Traceback (most recent call last)",
      "Cell \u001b[0;32mIn[48], line 1\u001b[0m\n\u001b[0;32m----> 1\u001b[0m \u001b[43mset2\u001b[49m\u001b[38;5;241;43m.\u001b[39;49m\u001b[43madd\u001b[49m\u001b[43m(\u001b[49m\u001b[38;5;241;43m5\u001b[39;49m\u001b[43m,\u001b[49m\u001b[38;5;241;43m6\u001b[39;49m\u001b[43m)\u001b[49m\n",
      "\u001b[0;31mTypeError\u001b[0m: set.add() takes exactly one argument (2 given)"
     ]
    }
   ],
   "source": [
    "set2.add(5,6)"
   ]
  },
  {
   "cell_type": "code",
   "execution_count": 49,
   "id": "8045c89a",
   "metadata": {},
   "outputs": [],
   "source": [
    "set2.add(5)"
   ]
  },
  {
   "cell_type": "code",
   "execution_count": 50,
   "id": "d18cb8e5",
   "metadata": {},
   "outputs": [
    {
     "data": {
      "text/plain": [
       "{(1, 3, 5), 1.0, 5, 'helo'}"
      ]
     },
     "execution_count": 50,
     "metadata": {},
     "output_type": "execute_result"
    }
   ],
   "source": [
    "set2"
   ]
  },
  {
   "cell_type": "code",
   "execution_count": 52,
   "id": "8dc0dcc5",
   "metadata": {},
   "outputs": [],
   "source": [
    "set2.update([9,10],{8,9})"
   ]
  },
  {
   "cell_type": "code",
   "execution_count": 53,
   "id": "44793511",
   "metadata": {},
   "outputs": [
    {
     "data": {
      "text/plain": [
       "{(1, 3, 5), 1.0, 10, 5, 8, 9, 'helo'}"
      ]
     },
     "execution_count": 53,
     "metadata": {},
     "output_type": "execute_result"
    }
   ],
   "source": [
    "set2"
   ]
  },
  {
   "cell_type": "code",
   "execution_count": 54,
   "id": "bebb347f",
   "metadata": {},
   "outputs": [],
   "source": [
    "set2.discard(8)"
   ]
  },
  {
   "cell_type": "code",
   "execution_count": 55,
   "id": "4de213c1",
   "metadata": {},
   "outputs": [
    {
     "data": {
      "text/plain": [
       "{(1, 3, 5), 1.0, 10, 5, 9, 'helo'}"
      ]
     },
     "execution_count": 55,
     "metadata": {},
     "output_type": "execute_result"
    }
   ],
   "source": [
    "set2"
   ]
  },
  {
   "cell_type": "code",
   "execution_count": 56,
   "id": "6f4a07ed",
   "metadata": {},
   "outputs": [
    {
     "data": {
      "text/plain": [
       "1.0"
      ]
     },
     "execution_count": 56,
     "metadata": {},
     "output_type": "execute_result"
    }
   ],
   "source": [
    "set2.pop()"
   ]
  },
  {
   "cell_type": "code",
   "execution_count": 57,
   "id": "0693b5d9",
   "metadata": {},
   "outputs": [
    {
     "data": {
      "text/plain": [
       "{(1, 3, 5), 10, 5, 9, 'helo'}"
      ]
     },
     "execution_count": 57,
     "metadata": {},
     "output_type": "execute_result"
    }
   ],
   "source": [
    "set2"
   ]
  },
  {
   "cell_type": "code",
   "execution_count": 64,
   "id": "4da4b6f9",
   "metadata": {},
   "outputs": [
    {
     "data": {
      "text/plain": [
       "set()"
      ]
     },
     "execution_count": 64,
     "metadata": {},
     "output_type": "execute_result"
    }
   ],
   "source": [
    "my_set"
   ]
  },
  {
   "cell_type": "code",
   "execution_count": 67,
   "id": "e16f4bca",
   "metadata": {},
   "outputs": [],
   "source": [
    "my_set=set(\"helloworld\")"
   ]
  },
  {
   "cell_type": "code",
   "execution_count": 70,
   "id": "a202bcf4",
   "metadata": {},
   "outputs": [
    {
     "data": {
      "text/plain": [
       "{'d', 'e', 'h', 'l', 'o', 'r', 'w'}"
      ]
     },
     "execution_count": 70,
     "metadata": {},
     "output_type": "execute_result"
    }
   ],
   "source": [
    "my_set"
   ]
  },
  {
   "cell_type": "code",
   "execution_count": 69,
   "id": "ee5ba87e",
   "metadata": {},
   "outputs": [
    {
     "ename": "NameError",
     "evalue": "name 'my_det' is not defined",
     "output_type": "error",
     "traceback": [
      "\u001b[0;31m---------------------------------------------------------------------------\u001b[0m",
      "\u001b[0;31mNameError\u001b[0m                                 Traceback (most recent call last)",
      "Cell \u001b[0;32mIn[69], line 1\u001b[0m\n\u001b[0;32m----> 1\u001b[0m \u001b[43mmy_det\u001b[49m\u001b[38;5;241m.\u001b[39mpop()\n",
      "\u001b[0;31mNameError\u001b[0m: name 'my_det' is not defined"
     ]
    }
   ],
   "source": [
    "my_det.pop()"
   ]
  },
  {
   "cell_type": "code",
   "execution_count": 71,
   "id": "df05339c",
   "metadata": {},
   "outputs": [
    {
     "data": {
      "text/plain": [
       "'l'"
      ]
     },
     "execution_count": 71,
     "metadata": {},
     "output_type": "execute_result"
    }
   ],
   "source": [
    "my_set.pop()#pop"
   ]
  },
  {
   "cell_type": "code",
   "execution_count": 72,
   "id": "943f83a0",
   "metadata": {},
   "outputs": [
    {
     "name": "stdout",
     "output_type": "stream",
     "text": [
      "{'o', 'd', 'e', 'h', 'w', 'r'}\n"
     ]
    }
   ],
   "source": [
    "print(my_set)"
   ]
  },
  {
   "cell_type": "code",
   "execution_count": 73,
   "id": "b5b3a54e",
   "metadata": {},
   "outputs": [
    {
     "data": {
      "text/plain": [
       "'o'"
      ]
     },
     "execution_count": 73,
     "metadata": {},
     "output_type": "execute_result"
    }
   ],
   "source": [
    "my_set.pop()"
   ]
  },
  {
   "cell_type": "code",
   "execution_count": 74,
   "id": "06494b9b",
   "metadata": {},
   "outputs": [
    {
     "name": "stdout",
     "output_type": "stream",
     "text": [
      "{'d', 'e', 'h', 'w', 'r'}\n"
     ]
    }
   ],
   "source": [
    "print(my_set)"
   ]
  },
  {
   "cell_type": "code",
   "execution_count": 75,
   "id": "b66c0d45",
   "metadata": {},
   "outputs": [],
   "source": [
    "my_set.clear()#clear"
   ]
  },
  {
   "cell_type": "code",
   "execution_count": 76,
   "id": "74fe4bb8",
   "metadata": {},
   "outputs": [
    {
     "data": {
      "text/plain": [
       "set()"
      ]
     },
     "execution_count": 76,
     "metadata": {},
     "output_type": "execute_result"
    }
   ],
   "source": [
    "my_set"
   ]
  },
  {
   "cell_type": "code",
   "execution_count": 77,
   "id": "b1f54c25",
   "metadata": {},
   "outputs": [
    {
     "name": "stdout",
     "output_type": "stream",
     "text": [
      "{1, 2, 3, 4, 5, 6, 7, 8, 9, 10, 11}\n"
     ]
    }
   ],
   "source": [
    "#python set operation\n",
    "#union\n",
    "x1={1,2,3,4,5,6,7,8}\n",
    "x2={5,6,7,8,9,10,11}\n",
    "print(x1|x2)"
   ]
  },
  {
   "cell_type": "code",
   "execution_count": 78,
   "id": "ad8041e7",
   "metadata": {},
   "outputs": [
    {
     "data": {
      "text/plain": [
       "{1, 2, 3, 4, 5, 6, 7, 8, 9, 10, 11}"
      ]
     },
     "execution_count": 78,
     "metadata": {},
     "output_type": "execute_result"
    }
   ],
   "source": [
    "x1.union(x2)"
   ]
  },
  {
   "cell_type": "code",
   "execution_count": 79,
   "id": "45efba06",
   "metadata": {},
   "outputs": [
    {
     "data": {
      "text/plain": [
       "{1, 2, 3, 4, 5, 6, 7, 8, 9, 10, 11}"
      ]
     },
     "execution_count": 79,
     "metadata": {},
     "output_type": "execute_result"
    }
   ],
   "source": [
    "x2.union(x1)"
   ]
  },
  {
   "cell_type": "code",
   "execution_count": 80,
   "id": "25c447a0",
   "metadata": {},
   "outputs": [
    {
     "name": "stdout",
     "output_type": "stream",
     "text": [
      "{8, 5, 6, 7}\n"
     ]
    }
   ],
   "source": [
    "#intersection\n",
    "x1={1,2,3,4,5,6,7,8}\n",
    "x2={5,6,7,8,9,10,11}\n",
    "print(x1 & x2)"
   ]
  },
  {
   "cell_type": "code",
   "execution_count": 81,
   "id": "6ca62227",
   "metadata": {},
   "outputs": [
    {
     "data": {
      "text/plain": [
       "{5, 6, 7, 8}"
      ]
     },
     "execution_count": 81,
     "metadata": {},
     "output_type": "execute_result"
    }
   ],
   "source": [
    "x1.intersection(x2)"
   ]
  },
  {
   "cell_type": "code",
   "execution_count": 82,
   "id": "5be90729",
   "metadata": {},
   "outputs": [
    {
     "data": {
      "text/plain": [
       "{5, 6, 7, 8}"
      ]
     },
     "execution_count": 82,
     "metadata": {},
     "output_type": "execute_result"
    }
   ],
   "source": [
    "x2.intersection(x1)"
   ]
  },
  {
   "cell_type": "code",
   "execution_count": 83,
   "id": "e9058fc6",
   "metadata": {},
   "outputs": [
    {
     "name": "stdout",
     "output_type": "stream",
     "text": [
      "{1, 2, 3, 4}\n"
     ]
    }
   ],
   "source": [
    "#set difference\n",
    "x1={1,2,3,4,5,6,7,8}\n",
    "x2={5,6,7,8,9,10,11}\n",
    "print(x1-x2)"
   ]
  },
  {
   "cell_type": "code",
   "execution_count": 84,
   "id": "35c28940",
   "metadata": {},
   "outputs": [
    {
     "name": "stdout",
     "output_type": "stream",
     "text": [
      "{9, 10, 11}\n"
     ]
    }
   ],
   "source": [
    "print(x2-x1)"
   ]
  },
  {
   "cell_type": "code",
   "execution_count": 85,
   "id": "1057eb8c",
   "metadata": {},
   "outputs": [
    {
     "data": {
      "text/plain": [
       "{1, 2, 3, 4}"
      ]
     },
     "execution_count": 85,
     "metadata": {},
     "output_type": "execute_result"
    }
   ],
   "source": [
    "x1.difference(x2)"
   ]
  },
  {
   "cell_type": "code",
   "execution_count": 86,
   "id": "0a42dcc5",
   "metadata": {},
   "outputs": [
    {
     "data": {
      "text/plain": [
       "{9, 10, 11}"
      ]
     },
     "execution_count": 86,
     "metadata": {},
     "output_type": "execute_result"
    }
   ],
   "source": [
    "x2.difference(x1)"
   ]
  },
  {
   "cell_type": "code",
   "execution_count": 87,
   "id": "20635fde",
   "metadata": {},
   "outputs": [
    {
     "data": {
      "text/plain": [
       "{1, 2, 3, 4, 9, 10, 11}"
      ]
     },
     "execution_count": 87,
     "metadata": {},
     "output_type": "execute_result"
    }
   ],
   "source": [
    "#set symmetric difference\n",
    "x1={1,2,3,4,5,6,7,8}\n",
    "x2={5,6,7,8,9,10,11}\n",
    "x1^x2"
   ]
  },
  {
   "cell_type": "code",
   "execution_count": 88,
   "id": "c8ed625e",
   "metadata": {},
   "outputs": [
    {
     "data": {
      "text/plain": [
       "{'b', 'd', 'g', 'i', 'l', 'n', 'u'}"
      ]
     },
     "execution_count": 88,
     "metadata": {},
     "output_type": "execute_result"
    }
   ],
   "source": [
    "set3=set(\"building\")"
   ]
  },
  {
   "cell_type": "code",
   "execution_count": 92,
   "id": "08ed7b05",
   "metadata": {},
   "outputs": [
    {
     "name": "stdout",
     "output_type": "stream",
     "text": [
      "l\n",
      "b\n",
      "d\n",
      "u\n",
      "n\n",
      "i\n",
      "g\n"
     ]
    }
   ],
   "source": [
    "set3=set(\"building\")\n",
    "for i in set3:\n",
    "    print(i,end=\"\\n\")"
   ]
  },
  {
   "cell_type": "code",
   "execution_count": 93,
   "id": "67cd7c22",
   "metadata": {},
   "outputs": [],
   "source": [
    "x1={1,2,3,4,5,6,7,8}\n",
    "x2={5,6,7,8,9,10,11}\n",
    "\n",
    "x1.difference_update(x2)"
   ]
  },
  {
   "cell_type": "code",
   "execution_count": 94,
   "id": "72e001fd",
   "metadata": {},
   "outputs": [
    {
     "name": "stdout",
     "output_type": "stream",
     "text": [
      "{1, 2, 3, 4}\n"
     ]
    }
   ],
   "source": [
    "print(x1)"
   ]
  },
  {
   "cell_type": "code",
   "execution_count": 95,
   "id": "f50b6bc3",
   "metadata": {},
   "outputs": [
    {
     "name": "stdout",
     "output_type": "stream",
     "text": [
      "{5, 6, 7, 8, 9, 10, 11}\n"
     ]
    }
   ],
   "source": [
    "print(x2)"
   ]
  },
  {
   "cell_type": "code",
   "execution_count": 96,
   "id": "a02d4b82",
   "metadata": {},
   "outputs": [],
   "source": [
    "x2.difference_update(x1)"
   ]
  },
  {
   "cell_type": "code",
   "execution_count": 97,
   "id": "1c11ae6b",
   "metadata": {},
   "outputs": [
    {
     "name": "stdout",
     "output_type": "stream",
     "text": [
      "{5, 6, 7, 8, 9, 10, 11}\n"
     ]
    }
   ],
   "source": [
    "print(x2)"
   ]
  },
  {
   "cell_type": "code",
   "execution_count": 100,
   "id": "32fdb32f",
   "metadata": {},
   "outputs": [
    {
     "name": "stdout",
     "output_type": "stream",
     "text": [
      "{1, 2, 3, 4}\n",
      "{5, 6, 7, 8, 9, 10, 11}\n"
     ]
    }
   ],
   "source": [
    "print(x1)\n",
    "print(x2)"
   ]
  },
  {
   "cell_type": "code",
   "execution_count": 103,
   "id": "fe4889ff",
   "metadata": {},
   "outputs": [],
   "source": [
    "x1={1,2,3,4,5,6,7,8,9}\n",
    "x2={8,9,10,11,12,13}\n",
    "x1.symmetric_difference_update(x2)"
   ]
  },
  {
   "cell_type": "code",
   "execution_count": 104,
   "id": "22cda654",
   "metadata": {},
   "outputs": [
    {
     "name": "stdout",
     "output_type": "stream",
     "text": [
      "{1, 2, 3, 4, 5, 6, 7, 10, 11, 12, 13}\n"
     ]
    }
   ],
   "source": [
    "print(x1)"
   ]
  },
  {
   "cell_type": "code",
   "execution_count": 105,
   "id": "767acd6d",
   "metadata": {},
   "outputs": [
    {
     "name": "stdout",
     "output_type": "stream",
     "text": [
      "{8, 9, 10, 11, 12, 13}\n"
     ]
    }
   ],
   "source": [
    "print(x2)"
   ]
  },
  {
   "cell_type": "code",
   "execution_count": 106,
   "id": "333caa4d",
   "metadata": {},
   "outputs": [],
   "source": [
    "x1.intersection_update(x2)"
   ]
  },
  {
   "cell_type": "code",
   "execution_count": 107,
   "id": "90e36bf0",
   "metadata": {},
   "outputs": [
    {
     "name": "stdout",
     "output_type": "stream",
     "text": [
      "{10, 11, 12, 13}\n"
     ]
    }
   ],
   "source": [
    "print(x1)"
   ]
  },
  {
   "cell_type": "code",
   "execution_count": 108,
   "id": "b4cf11cb",
   "metadata": {},
   "outputs": [
    {
     "name": "stdout",
     "output_type": "stream",
     "text": [
      "{8, 9, 10, 11, 12, 13}\n"
     ]
    }
   ],
   "source": [
    "print(x2)"
   ]
  },
  {
   "cell_type": "code",
   "execution_count": 109,
   "id": "fd56aa88",
   "metadata": {},
   "outputs": [
    {
     "name": "stdout",
     "output_type": "stream",
     "text": [
      "False\n"
     ]
    }
   ],
   "source": [
    "print(x1.isdisjoint(x2))"
   ]
  },
  {
   "cell_type": "code",
   "execution_count": 112,
   "id": "46eccc5b",
   "metadata": {},
   "outputs": [
    {
     "name": "stdout",
     "output_type": "stream",
     "text": [
      "False\n"
     ]
    }
   ],
   "source": [
    "x1={1,2,3,4,5,6,7,8,9}\n",
    "x2={7,8,9}   \n",
    "print(x1.isdisjoint(x2))"
   ]
  },
  {
   "cell_type": "code",
   "execution_count": 113,
   "id": "6c9d9b3f",
   "metadata": {},
   "outputs": [
    {
     "name": "stdout",
     "output_type": "stream",
     "text": [
      "False\n"
     ]
    }
   ],
   "source": [
    "print(x1.issubset(x2))"
   ]
  },
  {
   "cell_type": "code",
   "execution_count": null,
   "id": "4bff80ca",
   "metadata": {},
   "outputs": [],
   "source": []
  }
 ],
 "metadata": {
  "kernelspec": {
   "display_name": "Python 3 (ipykernel)",
   "language": "python",
   "name": "python3"
  },
  "language_info": {
   "codemirror_mode": {
    "name": "ipython",
    "version": 3
   },
   "file_extension": ".py",
   "mimetype": "text/x-python",
   "name": "python",
   "nbconvert_exporter": "python",
   "pygments_lexer": "ipython3",
   "version": "3.10.9"
  }
 },
 "nbformat": 4,
 "nbformat_minor": 5
}
