{
 "cells": [
  {
   "cell_type": "markdown",
   "id": "f1a6edf5",
   "metadata": {},
   "source": [
    "# function"
   ]
  },
  {
   "cell_type": "code",
   "execution_count": 4,
   "id": "ac4d6520",
   "metadata": {},
   "outputs": [],
   "source": [
    "def my_fun(c,d): #c and d are parameter\n",
    "    addition=c+d\n",
    "    \n",
    "    return addition"
   ]
  },
  {
   "cell_type": "code",
   "execution_count": 5,
   "id": "f134be1a",
   "metadata": {},
   "outputs": [
    {
     "data": {
      "text/plain": [
       "19"
      ]
     },
     "execution_count": 5,
     "metadata": {},
     "output_type": "execute_result"
    }
   ],
   "source": [
    "my_fun(9,10)"
   ]
  },
  {
   "cell_type": "code",
   "execution_count": 6,
   "id": "90e1c300",
   "metadata": {},
   "outputs": [
    {
     "data": {
      "text/plain": [
       "23"
      ]
     },
     "execution_count": 6,
     "metadata": {},
     "output_type": "execute_result"
    }
   ],
   "source": [
    "my_fun(11,12)"
   ]
  },
  {
   "cell_type": "code",
   "execution_count": 263,
   "id": "d5d8ad0b",
   "metadata": {},
   "outputs": [
    {
     "name": "stdout",
     "output_type": "stream",
     "text": [
      "normal\n",
      "overweight\n"
     ]
    }
   ],
   "source": [
    "def bmi(weight,height):\n",
    "    \n",
    "    bmi=weight/(height**2)\n",
    "\n",
    "    if bmi<16:\n",
    "        print(\"Severe thiness\")\n",
    "    elif bmi<=17 and bmi>=16:\n",
    "        print(\"Moderate thiness\")\n",
    "    elif bmi>17 and bmi<18.5:\n",
    "        print(\"Mild Thiness\")\n",
    "    elif bmi>=18.5 and bmi<25:\n",
    "        print(\"normal\")\n",
    "    elif bmi>=25 and bmi<30:\n",
    "        print(\"overweight\")\n",
    "    elif bmi>=30 and bmi<35:\n",
    "        print(\"Obese class 1\")\n",
    "    elif bmi>=35 and bmi<40:\n",
    "        print(\"obese class 2\")\n",
    "    else:\n",
    "        print(\"obese classs 3\")\n",
    "\n",
    "bmi(50,1.45)\n",
    "bmi(60,1.45)"
   ]
  },
  {
   "cell_type": "code",
   "execution_count": 10,
   "id": "5d13235d",
   "metadata": {},
   "outputs": [],
   "source": [
    "def add(a,b):\n",
    "    if type(a)==type(b):\n",
    "        return a+b\n",
    "    else:\n",
    "        return \"Both are different data types\""
   ]
  },
  {
   "cell_type": "code",
   "execution_count": 11,
   "id": "e41c93ba",
   "metadata": {},
   "outputs": [
    {
     "data": {
      "text/plain": [
       "22"
      ]
     },
     "execution_count": 11,
     "metadata": {},
     "output_type": "execute_result"
    }
   ],
   "source": [
    "add(10,12)"
   ]
  },
  {
   "cell_type": "code",
   "execution_count": 12,
   "id": "1e9c48d4",
   "metadata": {},
   "outputs": [
    {
     "data": {
      "text/plain": [
       "'Both are different data types'"
      ]
     },
     "execution_count": 12,
     "metadata": {},
     "output_type": "execute_result"
    }
   ],
   "source": [
    "add(10,1.9)"
   ]
  },
  {
   "cell_type": "code",
   "execution_count": 13,
   "id": "a2e3ce9f",
   "metadata": {},
   "outputs": [],
   "source": [
    "def hai():\n",
    "    print(\"Greeting hello\")\n",
    "    return"
   ]
  },
  {
   "cell_type": "code",
   "execution_count": 14,
   "id": "a6387f63",
   "metadata": {},
   "outputs": [
    {
     "name": "stdout",
     "output_type": "stream",
     "text": [
      "Greeting hello\n"
     ]
    }
   ],
   "source": [
    "hai()"
   ]
  },
  {
   "cell_type": "code",
   "execution_count": 16,
   "id": "457e8d77",
   "metadata": {},
   "outputs": [],
   "source": [
    "def hello():\n",
    "    name=str(input(\"Enter the name:\"))\n",
    "    if name:\n",
    "        print(\"Hello\",name)\n",
    "    else:\n",
    "        print(\"name not entered\")"
   ]
  },
  {
   "cell_type": "code",
   "execution_count": 17,
   "id": "d405902a",
   "metadata": {},
   "outputs": [
    {
     "name": "stdout",
     "output_type": "stream",
     "text": [
      "Enter the name:hhh\n",
      "Hello hhh\n"
     ]
    }
   ],
   "source": [
    "hello()"
   ]
  },
  {
   "cell_type": "code",
   "execution_count": 18,
   "id": "2381df2b",
   "metadata": {},
   "outputs": [
    {
     "name": "stdout",
     "output_type": "stream",
     "text": [
      "Enter the name:naann\n",
      "Hello naann\n"
     ]
    }
   ],
   "source": [
    "hello()\n"
   ]
  },
  {
   "cell_type": "code",
   "execution_count": 19,
   "id": "8169bb98",
   "metadata": {},
   "outputs": [
    {
     "name": "stdout",
     "output_type": "stream",
     "text": [
      "Enter the name:\n",
      "name not entered\n"
     ]
    }
   ],
   "source": [
    "hello()"
   ]
  },
  {
   "cell_type": "code",
   "execution_count": 20,
   "id": "f66f3f77",
   "metadata": {},
   "outputs": [
    {
     "name": "stdout",
     "output_type": "stream",
     "text": [
      "Enter the name:bcvjnmvk\n"
     ]
    }
   ],
   "source": [
    "a=input(\"Enter the name:\")"
   ]
  },
  {
   "cell_type": "code",
   "execution_count": 21,
   "id": "669d78c0",
   "metadata": {},
   "outputs": [
    {
     "data": {
      "text/plain": [
       "str"
      ]
     },
     "execution_count": 21,
     "metadata": {},
     "output_type": "execute_result"
    }
   ],
   "source": [
    "type(a)"
   ]
  },
  {
   "cell_type": "code",
   "execution_count": null,
   "id": "6ae9b64e",
   "metadata": {},
   "outputs": [],
   "source": [
    "a=int(input(\"Enter the name:\"))"
   ]
  },
  {
   "cell_type": "code",
   "execution_count": null,
   "id": "1fb5503e",
   "metadata": {},
   "outputs": [],
   "source": [
    "a=int(input(\"Enter the name:\"))\n",
    "type(a)"
   ]
  },
  {
   "cell_type": "code",
   "execution_count": null,
   "id": "ab909a30",
   "metadata": {},
   "outputs": [],
   "source": [
    "type(a)"
   ]
  },
  {
   "cell_type": "code",
   "execution_count": 1,
   "id": "b58dadd3",
   "metadata": {},
   "outputs": [],
   "source": [
    "def plus(a,b=2):\n",
    "    return a+b\n"
   ]
  },
  {
   "cell_type": "code",
   "execution_count": 2,
   "id": "7390797e",
   "metadata": {},
   "outputs": [
    {
     "data": {
      "text/plain": [
       "5"
      ]
     },
     "execution_count": 2,
     "metadata": {},
     "output_type": "execute_result"
    }
   ],
   "source": [
    "plus(3)\n"
   ]
  },
  {
   "cell_type": "code",
   "execution_count": 10,
   "id": "75b82f43",
   "metadata": {},
   "outputs": [],
   "source": [
    "def plus1(*args):\n",
    "    total=0\n",
    "    for i in args:\n",
    "        total +=i\n",
    "    return total\n",
    "    "
   ]
  },
  {
   "cell_type": "code",
   "execution_count": 3,
   "id": "f7e49b25",
   "metadata": {},
   "outputs": [],
   "source": [
    "def plus1(*args):\n",
    "    total=0\n",
    "    for i in args:\n",
    "        total +=i\n",
    "    return total\n",
    "    "
   ]
  },
  {
   "cell_type": "code",
   "execution_count": 4,
   "id": "922901d9",
   "metadata": {},
   "outputs": [
    {
     "data": {
      "text/plain": [
       "173"
      ]
     },
     "execution_count": 4,
     "metadata": {},
     "output_type": "execute_result"
    }
   ],
   "source": [
    "plus1(1,1,10,11,70,80)"
   ]
  },
  {
   "cell_type": "code",
   "execution_count": 6,
   "id": "879584ed",
   "metadata": {},
   "outputs": [],
   "source": [
    "def add(a,b):\n",
    "    if type(a)==type(b):\n",
    "        return a+b\n",
    "    else:\n",
    "        return \"Both are different data type\""
   ]
  },
  {
   "cell_type": "code",
   "execution_count": 7,
   "id": "05216d3d",
   "metadata": {},
   "outputs": [
    {
     "data": {
      "text/plain": [
       "'Both are different data type'"
      ]
     },
     "execution_count": 7,
     "metadata": {},
     "output_type": "execute_result"
    }
   ],
   "source": [
    "add(2,2.8)"
   ]
  },
  {
   "cell_type": "code",
   "execution_count": 15,
   "id": "8dc0ab6e",
   "metadata": {},
   "outputs": [],
   "source": [
    "def hai():\n",
    "    name=str(input(\"Enter the name:\"))\n",
    "    if name:\n",
    "        print(\"welcome\"+str(name))\n",
    "    else:\n",
    "        print(\"Name not Enterede\")\n",
    "    return   "
   ]
  },
  {
   "cell_type": "code",
   "execution_count": 16,
   "id": "6c1d094b",
   "metadata": {},
   "outputs": [
    {
     "name": "stdout",
     "output_type": "stream",
     "text": [
      "Enter the name:kk\n",
      "welcomekk\n"
     ]
    }
   ],
   "source": [
    "hai()"
   ]
  },
  {
   "cell_type": "code",
   "execution_count": 24,
   "id": "fcbd0dd0",
   "metadata": {},
   "outputs": [],
   "source": [
    "def oper(a,c):\n",
    "    sum=a+c\n",
    "    mult=a*c\n",
    "    sub=a-c\n",
    "    return(sum,mult,sub)"
   ]
  },
  {
   "cell_type": "code",
   "execution_count": 25,
   "id": "53e46e80",
   "metadata": {},
   "outputs": [
    {
     "data": {
      "text/plain": [
       "(30, 200, 10)"
      ]
     },
     "execution_count": 25,
     "metadata": {},
     "output_type": "execute_result"
    }
   ],
   "source": [
    "oper(20,10)"
   ]
  },
  {
   "cell_type": "code",
   "execution_count": 27,
   "id": "4cfd1e2d",
   "metadata": {},
   "outputs": [
    {
     "name": "stdout",
     "output_type": "stream",
     "text": [
      "1\n",
      "4\n",
      "6\n"
     ]
    }
   ],
   "source": [
    "a,b,c=1,4,6\n",
    "print(a)\n",
    "print(b)\n",
    "print(c)"
   ]
  },
  {
   "cell_type": "code",
   "execution_count": 38,
   "id": "ea95ceaf",
   "metadata": {},
   "outputs": [],
   "source": [
    "def plus(a,b=10):\n",
    "    return a+b\n"
   ]
  },
  {
   "cell_type": "code",
   "execution_count": 39,
   "id": "c2490eaa",
   "metadata": {},
   "outputs": [
    {
     "data": {
      "text/plain": [
       "15"
      ]
     },
     "execution_count": 39,
     "metadata": {},
     "output_type": "execute_result"
    }
   ],
   "source": [
    "plus(5)"
   ]
  },
  {
   "cell_type": "code",
   "execution_count": 41,
   "id": "83aba83f",
   "metadata": {},
   "outputs": [],
   "source": [
    "#global variable\n",
    "def sumf():\n",
    "    c=40\n",
    "    print(a)\n",
    "    print(b)\n",
    "    print(c)"
   ]
  },
  {
   "cell_type": "code",
   "execution_count": 42,
   "id": "c2ece5be",
   "metadata": {},
   "outputs": [
    {
     "name": "stdout",
     "output_type": "stream",
     "text": [
      "1\n",
      "4\n",
      "40\n"
     ]
    }
   ],
   "source": [
    "sumf()"
   ]
  },
  {
   "cell_type": "code",
   "execution_count": 43,
   "id": "4da2f7d4",
   "metadata": {},
   "outputs": [
    {
     "name": "stdout",
     "output_type": "stream",
     "text": [
      "1\n"
     ]
    }
   ],
   "source": [
    "print(a)"
   ]
  },
  {
   "cell_type": "code",
   "execution_count": 44,
   "id": "6509ab43",
   "metadata": {},
   "outputs": [
    {
     "name": "stdout",
     "output_type": "stream",
     "text": [
      "6\n"
     ]
    }
   ],
   "source": [
    "print(c)"
   ]
  },
  {
   "cell_type": "code",
   "execution_count": 45,
   "id": "9be0c248",
   "metadata": {},
   "outputs": [],
   "source": [
    "x=100#global variable\n",
    "y=200\n",
    "\n",
    "def sumf():\n",
    "    global z\n",
    "    z=25\n",
    "    print(x)\n",
    "    print(y)\n",
    "    print(z)\n",
    "    \n",
    "    \n",
    "    "
   ]
  },
  {
   "cell_type": "code",
   "execution_count": 46,
   "id": "954f408c",
   "metadata": {},
   "outputs": [
    {
     "name": "stdout",
     "output_type": "stream",
     "text": [
      "100\n",
      "200\n",
      "25\n"
     ]
    }
   ],
   "source": [
    "sumf()"
   ]
  },
  {
   "cell_type": "code",
   "execution_count": 47,
   "id": "763141a1",
   "metadata": {},
   "outputs": [
    {
     "name": "stdout",
     "output_type": "stream",
     "text": [
      "100\n"
     ]
    }
   ],
   "source": [
    "print(x)\n",
    "\n"
   ]
  },
  {
   "cell_type": "code",
   "execution_count": 48,
   "id": "fb3b9ed5",
   "metadata": {},
   "outputs": [
    {
     "name": "stdout",
     "output_type": "stream",
     "text": [
      "25\n"
     ]
    }
   ],
   "source": [
    "print(z)#global variable "
   ]
  },
  {
   "cell_type": "code",
   "execution_count": 50,
   "id": "ae783531",
   "metadata": {},
   "outputs": [],
   "source": [
    "#lambda function\n",
    "#lambda function is used to create anonymous function in python\n",
    "\n",
    "#lambda [arguments]:expression\n",
    "\n"
   ]
  },
  {
   "cell_type": "code",
   "execution_count": 51,
   "id": "7c9a2196",
   "metadata": {},
   "outputs": [],
   "source": [
    "squares=lambda x:x*x"
   ]
  },
  {
   "cell_type": "raw",
   "id": "de17ac9f",
   "metadata": {},
   "source": [
    "squares(5)"
   ]
  },
  {
   "cell_type": "code",
   "execution_count": 52,
   "id": "9ee6b736",
   "metadata": {},
   "outputs": [
    {
     "data": {
      "text/plain": [
       "25"
      ]
     },
     "execution_count": 52,
     "metadata": {},
     "output_type": "execute_result"
    }
   ],
   "source": [
    "squares(5)"
   ]
  },
  {
   "cell_type": "code",
   "execution_count": 55,
   "id": "42243bef",
   "metadata": {},
   "outputs": [],
   "source": [
    "greeting=lambda x:print(\"Hello\",x)"
   ]
  },
  {
   "cell_type": "code",
   "execution_count": 58,
   "id": "c41bac3b",
   "metadata": {},
   "outputs": [
    {
     "name": "stdout",
     "output_type": "stream",
     "text": [
      "Hello annaa\n"
     ]
    }
   ],
   "source": [
    "greeting(\"annaa\")"
   ]
  },
  {
   "cell_type": "code",
   "execution_count": 65,
   "id": "35041afb",
   "metadata": {},
   "outputs": [],
   "source": [
    "sum=lambda x,y,z:x+y+z\n"
   ]
  },
  {
   "cell_type": "code",
   "execution_count": 66,
   "id": "f7bef78e",
   "metadata": {},
   "outputs": [
    {
     "data": {
      "text/plain": [
       "6"
      ]
     },
     "execution_count": 66,
     "metadata": {},
     "output_type": "execute_result"
    }
   ],
   "source": [
    "sum(1,2,3)"
   ]
  },
  {
   "cell_type": "code",
   "execution_count": 71,
   "id": "5ddbb40a",
   "metadata": {},
   "outputs": [],
   "source": [
    "sum=lambda *x:x[0]+x[1]+x[2]+x[3]+x[4]+x[5]"
   ]
  },
  {
   "cell_type": "code",
   "execution_count": 72,
   "id": "7457a958",
   "metadata": {},
   "outputs": [
    {
     "data": {
      "text/plain": [
       "21"
      ]
     },
     "execution_count": 72,
     "metadata": {},
     "output_type": "execute_result"
    }
   ],
   "source": [
    "sum(1,2,3,4,5,6)"
   ]
  },
  {
   "cell_type": "code",
   "execution_count": 74,
   "id": "8b251c37",
   "metadata": {},
   "outputs": [],
   "source": [
    "sqrlist=map(lambda x:x*x,[1,3,6,9])"
   ]
  },
  {
   "cell_type": "code",
   "execution_count": 78,
   "id": "a0005daf",
   "metadata": {},
   "outputs": [
    {
     "data": {
      "text/plain": [
       "1"
      ]
     },
     "execution_count": 78,
     "metadata": {},
     "output_type": "execute_result"
    }
   ],
   "source": [
    "next(sqrlist)"
   ]
  },
  {
   "cell_type": "code",
   "execution_count": 79,
   "id": "e1d93355",
   "metadata": {},
   "outputs": [
    {
     "data": {
      "text/plain": [
       "9"
      ]
     },
     "execution_count": 79,
     "metadata": {},
     "output_type": "execute_result"
    }
   ],
   "source": [
    "next(sqrlist)"
   ]
  },
  {
   "cell_type": "code",
   "execution_count": null,
   "id": "4b16390c",
   "metadata": {},
   "outputs": [],
   "source": [
    "def loan"
   ]
  }
 ],
 "metadata": {
  "kernelspec": {
   "display_name": "Python 3 (ipykernel)",
   "language": "python",
   "name": "python3"
  },
  "language_info": {
   "codemirror_mode": {
    "name": "ipython",
    "version": 3
   },
   "file_extension": ".py",
   "mimetype": "text/x-python",
   "name": "python",
   "nbconvert_exporter": "python",
   "pygments_lexer": "ipython3",
   "version": "3.10.9"
  }
 },
 "nbformat": 4,
 "nbformat_minor": 5
}
