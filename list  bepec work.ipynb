{
 "cells": [
  {
   "cell_type": "code",
   "execution_count": null,
   "id": "75997fff",
   "metadata": {},
   "outputs": [],
   "source": [
    "#create table using pandas and indexing"
   ]
  },
  {
   "cell_type": "code",
   "execution_count": 6,
   "id": "600049dd",
   "metadata": {},
   "outputs": [],
   "source": [
    "factory={'personid':[1,2,3,4,5,6,7,8,9],'salary':[10,20,30,40,50,60,70,30,20],'dept':['cust','sales','tech','non-tech','manag','service','tech','marketing','finance']}"
   ]
  },
  {
   "cell_type": "code",
   "execution_count": 7,
   "id": "5968567b",
   "metadata": {},
   "outputs": [
    {
     "data": {
      "text/plain": [
       "dict"
      ]
     },
     "execution_count": 7,
     "metadata": {},
     "output_type": "execute_result"
    }
   ],
   "source": [
    "type(factory)"
   ]
  },
  {
   "cell_type": "code",
   "execution_count": 8,
   "id": "04869f7b",
   "metadata": {},
   "outputs": [
    {
     "name": "stdout",
     "output_type": "stream",
     "text": [
      "Requirement already satisfied: pandas in ./anaconda3/lib/python3.10/site-packages (1.5.3)\n",
      "Requirement already satisfied: python-dateutil>=2.8.1 in ./anaconda3/lib/python3.10/site-packages (from pandas) (2.8.2)\n",
      "Requirement already satisfied: pytz>=2020.1 in ./anaconda3/lib/python3.10/site-packages (from pandas) (2022.7)\n",
      "Requirement already satisfied: numpy>=1.21.0 in ./anaconda3/lib/python3.10/site-packages (from pandas) (1.23.5)\n",
      "Requirement already satisfied: six>=1.5 in ./anaconda3/lib/python3.10/site-packages (from python-dateutil>=2.8.1->pandas) (1.16.0)\n",
      "Note: you may need to restart the kernel to use updated packages.\n"
     ]
    }
   ],
   "source": [
    "pip install pandas"
   ]
  },
  {
   "cell_type": "code",
   "execution_count": 9,
   "id": "cae1b80c",
   "metadata": {},
   "outputs": [],
   "source": [
    "import pandas as fd"
   ]
  },
  {
   "cell_type": "code",
   "execution_count": 10,
   "id": "216716df",
   "metadata": {},
   "outputs": [],
   "source": [
    "factory_fd=fd.DataFrame(factory)"
   ]
  },
  {
   "cell_type": "code",
   "execution_count": 11,
   "id": "7bf55c60",
   "metadata": {},
   "outputs": [
    {
     "data": {
      "text/html": [
       "<div>\n",
       "<style scoped>\n",
       "    .dataframe tbody tr th:only-of-type {\n",
       "        vertical-align: middle;\n",
       "    }\n",
       "\n",
       "    .dataframe tbody tr th {\n",
       "        vertical-align: top;\n",
       "    }\n",
       "\n",
       "    .dataframe thead th {\n",
       "        text-align: right;\n",
       "    }\n",
       "</style>\n",
       "<table border=\"1\" class=\"dataframe\">\n",
       "  <thead>\n",
       "    <tr style=\"text-align: right;\">\n",
       "      <th></th>\n",
       "      <th>personid</th>\n",
       "      <th>salary</th>\n",
       "      <th>dept</th>\n",
       "    </tr>\n",
       "  </thead>\n",
       "  <tbody>\n",
       "    <tr>\n",
       "      <th>0</th>\n",
       "      <td>1</td>\n",
       "      <td>10</td>\n",
       "      <td>cust</td>\n",
       "    </tr>\n",
       "    <tr>\n",
       "      <th>1</th>\n",
       "      <td>2</td>\n",
       "      <td>20</td>\n",
       "      <td>sales</td>\n",
       "    </tr>\n",
       "    <tr>\n",
       "      <th>2</th>\n",
       "      <td>3</td>\n",
       "      <td>30</td>\n",
       "      <td>tech</td>\n",
       "    </tr>\n",
       "    <tr>\n",
       "      <th>3</th>\n",
       "      <td>4</td>\n",
       "      <td>40</td>\n",
       "      <td>non-tech</td>\n",
       "    </tr>\n",
       "    <tr>\n",
       "      <th>4</th>\n",
       "      <td>5</td>\n",
       "      <td>50</td>\n",
       "      <td>manag</td>\n",
       "    </tr>\n",
       "    <tr>\n",
       "      <th>5</th>\n",
       "      <td>6</td>\n",
       "      <td>60</td>\n",
       "      <td>service</td>\n",
       "    </tr>\n",
       "    <tr>\n",
       "      <th>6</th>\n",
       "      <td>7</td>\n",
       "      <td>70</td>\n",
       "      <td>tech</td>\n",
       "    </tr>\n",
       "    <tr>\n",
       "      <th>7</th>\n",
       "      <td>8</td>\n",
       "      <td>30</td>\n",
       "      <td>marketing</td>\n",
       "    </tr>\n",
       "    <tr>\n",
       "      <th>8</th>\n",
       "      <td>9</td>\n",
       "      <td>20</td>\n",
       "      <td>finance</td>\n",
       "    </tr>\n",
       "  </tbody>\n",
       "</table>\n",
       "</div>"
      ],
      "text/plain": [
       "   personid  salary       dept\n",
       "0         1      10       cust\n",
       "1         2      20      sales\n",
       "2         3      30       tech\n",
       "3         4      40   non-tech\n",
       "4         5      50      manag\n",
       "5         6      60    service\n",
       "6         7      70       tech\n",
       "7         8      30  marketing\n",
       "8         9      20    finance"
      ]
     },
     "execution_count": 11,
     "metadata": {},
     "output_type": "execute_result"
    }
   ],
   "source": [
    "factory_fd"
   ]
  },
  {
   "cell_type": "code",
   "execution_count": 14,
   "id": "08e414a6",
   "metadata": {},
   "outputs": [
    {
     "data": {
      "text/plain": [
       "0    10\n",
       "1    20\n",
       "2    30\n",
       "3    40\n",
       "4    50\n",
       "5    60\n",
       "6    70\n",
       "7    30\n",
       "8    20\n",
       "Name: salary, dtype: int64"
      ]
     },
     "execution_count": 14,
     "metadata": {},
     "output_type": "execute_result"
    }
   ],
   "source": [
    "factory_fd['salary']"
   ]
  },
  {
   "cell_type": "code",
   "execution_count": 16,
   "id": "77d53ecb",
   "metadata": {},
   "outputs": [
    {
     "data": {
      "text/plain": [
       "pandas.core.series.Series"
      ]
     },
     "execution_count": 16,
     "metadata": {},
     "output_type": "execute_result"
    }
   ],
   "source": [
    "type(factory_fd['salary'])"
   ]
  },
  {
   "cell_type": "code",
   "execution_count": 21,
   "id": "cd2436a4",
   "metadata": {},
   "outputs": [
    {
     "data": {
      "text/plain": [
       "36.666666666666664"
      ]
     },
     "execution_count": 21,
     "metadata": {},
     "output_type": "execute_result"
    }
   ],
   "source": [
    "factory_fd['salary'].mean()"
   ]
  },
  {
   "cell_type": "code",
   "execution_count": 23,
   "id": "fe827500",
   "metadata": {},
   "outputs": [
    {
     "data": {
      "text/html": [
       "<div>\n",
       "<style scoped>\n",
       "    .dataframe tbody tr th:only-of-type {\n",
       "        vertical-align: middle;\n",
       "    }\n",
       "\n",
       "    .dataframe tbody tr th {\n",
       "        vertical-align: top;\n",
       "    }\n",
       "\n",
       "    .dataframe thead th {\n",
       "        text-align: right;\n",
       "    }\n",
       "</style>\n",
       "<table border=\"1\" class=\"dataframe\">\n",
       "  <thead>\n",
       "    <tr style=\"text-align: right;\">\n",
       "      <th></th>\n",
       "      <th>personid</th>\n",
       "      <th>salary</th>\n",
       "    </tr>\n",
       "  </thead>\n",
       "  <tbody>\n",
       "    <tr>\n",
       "      <th>count</th>\n",
       "      <td>9.000000</td>\n",
       "      <td>9.000000</td>\n",
       "    </tr>\n",
       "    <tr>\n",
       "      <th>mean</th>\n",
       "      <td>5.000000</td>\n",
       "      <td>36.666667</td>\n",
       "    </tr>\n",
       "    <tr>\n",
       "      <th>std</th>\n",
       "      <td>2.738613</td>\n",
       "      <td>20.000000</td>\n",
       "    </tr>\n",
       "    <tr>\n",
       "      <th>min</th>\n",
       "      <td>1.000000</td>\n",
       "      <td>10.000000</td>\n",
       "    </tr>\n",
       "    <tr>\n",
       "      <th>25%</th>\n",
       "      <td>3.000000</td>\n",
       "      <td>20.000000</td>\n",
       "    </tr>\n",
       "    <tr>\n",
       "      <th>50%</th>\n",
       "      <td>5.000000</td>\n",
       "      <td>30.000000</td>\n",
       "    </tr>\n",
       "    <tr>\n",
       "      <th>75%</th>\n",
       "      <td>7.000000</td>\n",
       "      <td>50.000000</td>\n",
       "    </tr>\n",
       "    <tr>\n",
       "      <th>max</th>\n",
       "      <td>9.000000</td>\n",
       "      <td>70.000000</td>\n",
       "    </tr>\n",
       "  </tbody>\n",
       "</table>\n",
       "</div>"
      ],
      "text/plain": [
       "       personid     salary\n",
       "count  9.000000   9.000000\n",
       "mean   5.000000  36.666667\n",
       "std    2.738613  20.000000\n",
       "min    1.000000  10.000000\n",
       "25%    3.000000  20.000000\n",
       "50%    5.000000  30.000000\n",
       "75%    7.000000  50.000000\n",
       "max    9.000000  70.000000"
      ]
     },
     "execution_count": 23,
     "metadata": {},
     "output_type": "execute_result"
    }
   ],
   "source": [
    "factory_fd.describe()"
   ]
  },
  {
   "cell_type": "code",
   "execution_count": 25,
   "id": "461a6358",
   "metadata": {},
   "outputs": [
    {
     "data": {
      "text/plain": [
       "<Axes: >"
      ]
     },
     "execution_count": 25,
     "metadata": {},
     "output_type": "execute_result"
    },
    {
     "data": {
      "image/png": "[encoded data removed]",
      "text/plain": [
       "<Figure size 640x480 with 1 Axes>"
      ]
     },
     "metadata": {},
     "output_type": "display_data"
    }
   ],
   "source": [
    "factory_fd['dept'].hist()"
   ]
  },
  {
   "cell_type": "code",
   "execution_count": 27,
   "id": "b87a8e50",
   "metadata": {},
   "outputs": [
    {
     "data": {
      "text/html": [
       "<div>\n",
       "<style scoped>\n",
       "    .dataframe tbody tr th:only-of-type {\n",
       "        vertical-align: middle;\n",
       "    }\n",
       "\n",
       "    .dataframe tbody tr th {\n",
       "        vertical-align: top;\n",
       "    }\n",
       "\n",
       "    .dataframe thead th {\n",
       "        text-align: right;\n",
       "    }\n",
       "</style>\n",
       "<table border=\"1\" class=\"dataframe\">\n",
       "  <thead>\n",
       "    <tr style=\"text-align: right;\">\n",
       "      <th></th>\n",
       "      <th>personid</th>\n",
       "      <th>salary</th>\n",
       "      <th>dept</th>\n",
       "    </tr>\n",
       "  </thead>\n",
       "  <tbody>\n",
       "    <tr>\n",
       "      <th>0</th>\n",
       "      <td>1</td>\n",
       "      <td>10</td>\n",
       "      <td>cust</td>\n",
       "    </tr>\n",
       "    <tr>\n",
       "      <th>1</th>\n",
       "      <td>2</td>\n",
       "      <td>20</td>\n",
       "      <td>sales</td>\n",
       "    </tr>\n",
       "    <tr>\n",
       "      <th>2</th>\n",
       "      <td>3</td>\n",
       "      <td>30</td>\n",
       "      <td>tech</td>\n",
       "    </tr>\n",
       "    <tr>\n",
       "      <th>3</th>\n",
       "      <td>4</td>\n",
       "      <td>40</td>\n",
       "      <td>non-tech</td>\n",
       "    </tr>\n",
       "    <tr>\n",
       "      <th>4</th>\n",
       "      <td>5</td>\n",
       "      <td>50</td>\n",
       "      <td>manag</td>\n",
       "    </tr>\n",
       "    <tr>\n",
       "      <th>5</th>\n",
       "      <td>6</td>\n",
       "      <td>60</td>\n",
       "      <td>service</td>\n",
       "    </tr>\n",
       "    <tr>\n",
       "      <th>6</th>\n",
       "      <td>7</td>\n",
       "      <td>70</td>\n",
       "      <td>tech</td>\n",
       "    </tr>\n",
       "    <tr>\n",
       "      <th>7</th>\n",
       "      <td>8</td>\n",
       "      <td>30</td>\n",
       "      <td>marketing</td>\n",
       "    </tr>\n",
       "    <tr>\n",
       "      <th>8</th>\n",
       "      <td>9</td>\n",
       "      <td>20</td>\n",
       "      <td>finance</td>\n",
       "    </tr>\n",
       "  </tbody>\n",
       "</table>\n",
       "</div>"
      ],
      "text/plain": [
       "   personid  salary       dept\n",
       "0         1      10       cust\n",
       "1         2      20      sales\n",
       "2         3      30       tech\n",
       "3         4      40   non-tech\n",
       "4         5      50      manag\n",
       "5         6      60    service\n",
       "6         7      70       tech\n",
       "7         8      30  marketing\n",
       "8         9      20    finance"
      ]
     },
     "execution_count": 27,
     "metadata": {},
     "output_type": "execute_result"
    }
   ],
   "source": [
    "#indexing\n",
    "factory_fd.iloc[:,:]#display all rows and column in dataframe"
   ]
  },
  {
   "cell_type": "code",
   "execution_count": 29,
   "id": "9898a1b8",
   "metadata": {},
   "outputs": [],
   "source": [
    "factory_fd.iloc[4,2]='tech' #replace the value in table using iloc"
   ]
  },
  {
   "cell_type": "code",
   "execution_count": 30,
   "id": "b0497bab",
   "metadata": {},
   "outputs": [
    {
     "data": {
      "text/html": [
       "<div>\n",
       "<style scoped>\n",
       "    .dataframe tbody tr th:only-of-type {\n",
       "        vertical-align: middle;\n",
       "    }\n",
       "\n",
       "    .dataframe tbody tr th {\n",
       "        vertical-align: top;\n",
       "    }\n",
       "\n",
       "    .dataframe thead th {\n",
       "        text-align: right;\n",
       "    }\n",
       "</style>\n",
       "<table border=\"1\" class=\"dataframe\">\n",
       "  <thead>\n",
       "    <tr style=\"text-align: right;\">\n",
       "      <th></th>\n",
       "      <th>personid</th>\n",
       "      <th>salary</th>\n",
       "      <th>dept</th>\n",
       "    </tr>\n",
       "  </thead>\n",
       "  <tbody>\n",
       "    <tr>\n",
       "      <th>0</th>\n",
       "      <td>1</td>\n",
       "      <td>10</td>\n",
       "      <td>cust</td>\n",
       "    </tr>\n",
       "    <tr>\n",
       "      <th>1</th>\n",
       "      <td>2</td>\n",
       "      <td>20</td>\n",
       "      <td>sales</td>\n",
       "    </tr>\n",
       "    <tr>\n",
       "      <th>2</th>\n",
       "      <td>3</td>\n",
       "      <td>30</td>\n",
       "      <td>tech</td>\n",
       "    </tr>\n",
       "    <tr>\n",
       "      <th>3</th>\n",
       "      <td>4</td>\n",
       "      <td>40</td>\n",
       "      <td>non-tech</td>\n",
       "    </tr>\n",
       "    <tr>\n",
       "      <th>4</th>\n",
       "      <td>5</td>\n",
       "      <td>50</td>\n",
       "      <td>tech</td>\n",
       "    </tr>\n",
       "    <tr>\n",
       "      <th>5</th>\n",
       "      <td>6</td>\n",
       "      <td>60</td>\n",
       "      <td>service</td>\n",
       "    </tr>\n",
       "    <tr>\n",
       "      <th>6</th>\n",
       "      <td>7</td>\n",
       "      <td>70</td>\n",
       "      <td>tech</td>\n",
       "    </tr>\n",
       "    <tr>\n",
       "      <th>7</th>\n",
       "      <td>8</td>\n",
       "      <td>30</td>\n",
       "      <td>marketing</td>\n",
       "    </tr>\n",
       "    <tr>\n",
       "      <th>8</th>\n",
       "      <td>9</td>\n",
       "      <td>20</td>\n",
       "      <td>finance</td>\n",
       "    </tr>\n",
       "  </tbody>\n",
       "</table>\n",
       "</div>"
      ],
      "text/plain": [
       "   personid  salary       dept\n",
       "0         1      10       cust\n",
       "1         2      20      sales\n",
       "2         3      30       tech\n",
       "3         4      40   non-tech\n",
       "4         5      50       tech\n",
       "5         6      60    service\n",
       "6         7      70       tech\n",
       "7         8      30  marketing\n",
       "8         9      20    finance"
      ]
     },
     "execution_count": 30,
     "metadata": {},
     "output_type": "execute_result"
    }
   ],
   "source": [
    "factory_fd"
   ]
  },
  {
   "cell_type": "code",
   "execution_count": 35,
   "id": "9e1f068a",
   "metadata": {},
   "outputs": [
    {
     "data": {
      "text/plain": [
       "numpy.int64"
      ]
     },
     "execution_count": 35,
     "metadata": {},
     "output_type": "execute_result"
    }
   ],
   "source": [
    "type(factory_fd.iloc[3,1])"
   ]
  },
  {
   "cell_type": "code",
   "execution_count": 36,
   "id": "7ecbfc11",
   "metadata": {},
   "outputs": [],
   "source": [
    "#from the above code understand \n",
    "#pandas is created on basis of numpy library\n",
    "#combination of series is called dataframe"
   ]
  },
  {
   "cell_type": "code",
   "execution_count": 37,
   "id": "e9c4d83c",
   "metadata": {},
   "outputs": [],
   "source": [
    "#create an array\n"
   ]
  },
  {
   "cell_type": "code",
   "execution_count": 38,
   "id": "f59484d9",
   "metadata": {},
   "outputs": [],
   "source": [
    "import numpy as np\n"
   ]
  },
  {
   "cell_type": "code",
   "execution_count": 40,
   "id": "1c69c0c7",
   "metadata": {},
   "outputs": [],
   "source": [
    "arr1=np.array([20,30,40,50,60])"
   ]
  },
  {
   "cell_type": "code",
   "execution_count": 41,
   "id": "2c9cbaac",
   "metadata": {},
   "outputs": [
    {
     "data": {
      "text/plain": [
       "array([20, 30, 40, 50, 60])"
      ]
     },
     "execution_count": 41,
     "metadata": {},
     "output_type": "execute_result"
    }
   ],
   "source": [
    "arr1"
   ]
  },
  {
   "cell_type": "code",
   "execution_count": 42,
   "id": "c37085c8",
   "metadata": {},
   "outputs": [
    {
     "data": {
      "text/plain": [
       "numpy.ndarray"
      ]
     },
     "execution_count": 42,
     "metadata": {},
     "output_type": "execute_result"
    }
   ],
   "source": [
    "type(arr1)"
   ]
  },
  {
   "cell_type": "code",
   "execution_count": 43,
   "id": "c0dc04b7",
   "metadata": {},
   "outputs": [],
   "source": [
    "#empty list\n",
    "my_list=[]"
   ]
  },
  {
   "cell_type": "code",
   "execution_count": 44,
   "id": "58b68a8c",
   "metadata": {},
   "outputs": [],
   "source": [
    "#list of integers\n",
    "my_list=[30,40,50,60]"
   ]
  },
  {
   "cell_type": "code",
   "execution_count": 45,
   "id": "5b32fc71",
   "metadata": {},
   "outputs": [
    {
     "data": {
      "text/plain": [
       "[30, 40, 50, 60]"
      ]
     },
     "execution_count": 45,
     "metadata": {},
     "output_type": "execute_result"
    }
   ],
   "source": [
    "my_list"
   ]
  },
  {
   "cell_type": "code",
   "execution_count": 46,
   "id": "67417167",
   "metadata": {},
   "outputs": [],
   "source": [
    "#list with mixed integers\n",
    "my_list1=[3,4,5,'hai','hello']"
   ]
  },
  {
   "cell_type": "code",
   "execution_count": 47,
   "id": "ef3f47e9",
   "metadata": {},
   "outputs": [
    {
     "data": {
      "text/plain": [
       "[3, 4, 5, 'hai', 'hello']"
      ]
     },
     "execution_count": 47,
     "metadata": {},
     "output_type": "execute_result"
    }
   ],
   "source": [
    "my_list1"
   ]
  },
  {
   "cell_type": "code",
   "execution_count": 49,
   "id": "10996e9d",
   "metadata": {},
   "outputs": [
    {
     "data": {
      "text/plain": [
       "3"
      ]
     },
     "execution_count": 49,
     "metadata": {},
     "output_type": "execute_result"
    }
   ],
   "source": [
    "my_list1[0]"
   ]
  },
  {
   "cell_type": "code",
   "execution_count": 50,
   "id": "2be7b992",
   "metadata": {},
   "outputs": [
    {
     "ename": "IndexError",
     "evalue": "list index out of range",
     "output_type": "error",
     "traceback": [
      "\u001b[0;31m---------------------------------------------------------------------------\u001b[0m",
      "\u001b[0;31mIndexError\u001b[0m                                Traceback (most recent call last)",
      "Cell \u001b[0;32mIn[50], line 1\u001b[0m\n\u001b[0;32m----> 1\u001b[0m \u001b[43mmy_list\u001b[49m\u001b[43m[\u001b[49m\u001b[38;5;241;43m4\u001b[39;49m\u001b[43m]\u001b[49m\n",
      "\u001b[0;31mIndexError\u001b[0m: list index out of range"
     ]
    }
   ],
   "source": [
    "my_list[4]"
   ]
  },
  {
   "cell_type": "code",
   "execution_count": 51,
   "id": "ceb340e6",
   "metadata": {},
   "outputs": [
    {
     "data": {
      "text/plain": [
       "'hello'"
      ]
     },
     "execution_count": 51,
     "metadata": {},
     "output_type": "execute_result"
    }
   ],
   "source": [
    "my_list1[4]"
   ]
  },
  {
   "cell_type": "code",
   "execution_count": 53,
   "id": "8358871c",
   "metadata": {},
   "outputs": [
    {
     "data": {
      "text/plain": [
       "'he'"
      ]
     },
     "execution_count": 53,
     "metadata": {},
     "output_type": "execute_result"
    }
   ],
   "source": [
    "my_list1[4][:2]"
   ]
  },
  {
   "cell_type": "code",
   "execution_count": 55,
   "id": "732569e8",
   "metadata": {},
   "outputs": [
    {
     "data": {
      "text/plain": [
       "'hlo'"
      ]
     },
     "execution_count": 55,
     "metadata": {},
     "output_type": "execute_result"
    }
   ],
   "source": [
    "my_list1[4][::2]"
   ]
  },
  {
   "cell_type": "code",
   "execution_count": 56,
   "id": "da4e41e6",
   "metadata": {},
   "outputs": [
    {
     "data": {
      "text/plain": [
       "'ll'"
      ]
     },
     "execution_count": 56,
     "metadata": {},
     "output_type": "execute_result"
    }
   ],
   "source": [
    "my_list1[4][2:4]"
   ]
  },
  {
   "cell_type": "code",
   "execution_count": 57,
   "id": "b520443c",
   "metadata": {},
   "outputs": [],
   "source": [
    "#nested list\n",
    "new=[\"mouse\",[8,9,10],['a']]"
   ]
  },
  {
   "cell_type": "code",
   "execution_count": 58,
   "id": "338d6c29",
   "metadata": {},
   "outputs": [
    {
     "data": {
      "text/plain": [
       "['mouse', [8, 9, 10], ['a']]"
      ]
     },
     "execution_count": 58,
     "metadata": {},
     "output_type": "execute_result"
    }
   ],
   "source": [
    "new"
   ]
  },
  {
   "cell_type": "code",
   "execution_count": 59,
   "id": "e64ca518",
   "metadata": {},
   "outputs": [
    {
     "data": {
      "text/plain": [
       "'mouse'"
      ]
     },
     "execution_count": 59,
     "metadata": {},
     "output_type": "execute_result"
    }
   ],
   "source": [
    "new[0]"
   ]
  },
  {
   "cell_type": "code",
   "execution_count": 60,
   "id": "367ae917",
   "metadata": {},
   "outputs": [
    {
     "data": {
      "text/plain": [
       "[8, 9, 10]"
      ]
     },
     "execution_count": 60,
     "metadata": {},
     "output_type": "execute_result"
    }
   ],
   "source": [
    "new[1]"
   ]
  },
  {
   "cell_type": "code",
   "execution_count": 61,
   "id": "d1bf7c59",
   "metadata": {},
   "outputs": [
    {
     "name": "stdout",
     "output_type": "stream",
     "text": [
      "[8, 9, 10]\n"
     ]
    }
   ],
   "source": [
    "print(new[1])"
   ]
  },
  {
   "cell_type": "code",
   "execution_count": 64,
   "id": "56648bfc",
   "metadata": {},
   "outputs": [
    {
     "name": "stdout",
     "output_type": "stream",
     "text": [
      "mouse\n"
     ]
    }
   ],
   "source": [
    "print(new[0])"
   ]
  },
  {
   "cell_type": "code",
   "execution_count": 65,
   "id": "1ec7cbc4",
   "metadata": {},
   "outputs": [
    {
     "name": "stdout",
     "output_type": "stream",
     "text": [
      "u\n"
     ]
    }
   ],
   "source": [
    "print(new[0][2])"
   ]
  },
  {
   "cell_type": "code",
   "execution_count": 66,
   "id": "d1f8c6f6",
   "metadata": {},
   "outputs": [
    {
     "name": "stdout",
     "output_type": "stream",
     "text": [
      "['a']\n"
     ]
    }
   ],
   "source": [
    "print(new[2])"
   ]
  },
  {
   "cell_type": "code",
   "execution_count": 67,
   "id": "20787f16",
   "metadata": {},
   "outputs": [],
   "source": [
    "list=['f','r','o','t','e','g','u','v']"
   ]
  },
  {
   "cell_type": "code",
   "execution_count": 68,
   "id": "c6facafc",
   "metadata": {},
   "outputs": [
    {
     "data": {
      "text/plain": [
       "['f', 'r', 'o', 't', 'e', 'g', 'u', 'v']"
      ]
     },
     "execution_count": 68,
     "metadata": {},
     "output_type": "execute_result"
    }
   ],
   "source": [
    "list"
   ]
  },
  {
   "cell_type": "code",
   "execution_count": 69,
   "id": "d84db248",
   "metadata": {},
   "outputs": [
    {
     "name": "stdout",
     "output_type": "stream",
     "text": [
      "['f', 'r', 'o', 't']\n"
     ]
    }
   ],
   "source": [
    "print(list[0:4])"
   ]
  },
  {
   "cell_type": "code",
   "execution_count": 70,
   "id": "18d41256",
   "metadata": {},
   "outputs": [],
   "source": [
    "frr=[4,5,6,7,8]"
   ]
  },
  {
   "cell_type": "code",
   "execution_count": 71,
   "id": "d247f6a4",
   "metadata": {},
   "outputs": [
    {
     "data": {
      "text/plain": [
       "[4, 5, 6, 7, 8]"
      ]
     },
     "execution_count": 71,
     "metadata": {},
     "output_type": "execute_result"
    }
   ],
   "source": [
    "frr"
   ]
  },
  {
   "cell_type": "code",
   "execution_count": 74,
   "id": "dc2953f5",
   "metadata": {},
   "outputs": [],
   "source": [
    "frr[0]=1 #update the list\n"
   ]
  },
  {
   "cell_type": "code",
   "execution_count": 75,
   "id": "db21aef8",
   "metadata": {},
   "outputs": [
    {
     "data": {
      "text/plain": [
       "[1, 5, 6, 7, 8]"
      ]
     },
     "execution_count": 75,
     "metadata": {},
     "output_type": "execute_result"
    }
   ],
   "source": [
    "frr"
   ]
  },
  {
   "cell_type": "code",
   "execution_count": 76,
   "id": "7e8a6d3c",
   "metadata": {},
   "outputs": [],
   "source": [
    "frr[1:4]=9,9,10 #replace more than one value "
   ]
  },
  {
   "cell_type": "code",
   "execution_count": 77,
   "id": "c6599344",
   "metadata": {},
   "outputs": [
    {
     "data": {
      "text/plain": [
       "[1, 9, 9, 10, 8]"
      ]
     },
     "execution_count": 77,
     "metadata": {},
     "output_type": "execute_result"
    }
   ],
   "source": [
    "frr"
   ]
  },
  {
   "cell_type": "code",
   "execution_count": 78,
   "id": "8cc02e4e",
   "metadata": {},
   "outputs": [],
   "source": [
    "frr.append(12)#append can take one value as argument"
   ]
  },
  {
   "cell_type": "code",
   "execution_count": 79,
   "id": "334b8662",
   "metadata": {},
   "outputs": [
    {
     "data": {
      "text/plain": [
       "[1, 9, 9, 10, 8, 12]"
      ]
     },
     "execution_count": 79,
     "metadata": {},
     "output_type": "execute_result"
    }
   ],
   "source": [
    "frr"
   ]
  },
  {
   "cell_type": "code",
   "execution_count": 83,
   "id": "6d60d8fd",
   "metadata": {},
   "outputs": [],
   "source": [
    "frr.extend([13,14])#extend can take more than one value as a argument"
   ]
  },
  {
   "cell_type": "code",
   "execution_count": 84,
   "id": "45b12242",
   "metadata": {},
   "outputs": [
    {
     "data": {
      "text/plain": [
       "[1, 9, 9, 10, 8, 12, 13, 14]"
      ]
     },
     "execution_count": 84,
     "metadata": {},
     "output_type": "execute_result"
    }
   ],
   "source": [
    "frr"
   ]
  },
  {
   "cell_type": "code",
   "execution_count": 85,
   "id": "2558ec1b",
   "metadata": {},
   "outputs": [],
   "source": [
    "frr.append([20,30])#append can take more than one value as a single element in a list"
   ]
  },
  {
   "cell_type": "code",
   "execution_count": 86,
   "id": "5d59a6cd",
   "metadata": {},
   "outputs": [
    {
     "data": {
      "text/plain": [
       "[1, 9, 9, 10, 8, 12, 13, 14, [20, 30]]"
      ]
     },
     "execution_count": 86,
     "metadata": {},
     "output_type": "execute_result"
    }
   ],
   "source": [
    "frr"
   ]
  },
  {
   "cell_type": "code",
   "execution_count": 88,
   "id": "69887f5d",
   "metadata": {},
   "outputs": [],
   "source": [
    "#delete the elements in the list using index\n"
   ]
  },
  {
   "cell_type": "code",
   "execution_count": 89,
   "id": "356a829f",
   "metadata": {},
   "outputs": [],
   "source": [
    "y=['p','q','r','s','t','u','v','w','x','y']"
   ]
  },
  {
   "cell_type": "code",
   "execution_count": 90,
   "id": "b8c6542c",
   "metadata": {},
   "outputs": [
    {
     "data": {
      "text/plain": [
       "['p', 'q', 'r', 's', 't', 'u', 'v', 'w', 'x', 'y']"
      ]
     },
     "execution_count": 90,
     "metadata": {},
     "output_type": "execute_result"
    }
   ],
   "source": [
    "y"
   ]
  },
  {
   "cell_type": "code",
   "execution_count": 91,
   "id": "dde4dbe2",
   "metadata": {},
   "outputs": [],
   "source": [
    "del y[2]"
   ]
  },
  {
   "cell_type": "code",
   "execution_count": 92,
   "id": "7c130256",
   "metadata": {},
   "outputs": [
    {
     "data": {
      "text/plain": [
       "['p', 'q', 's', 't', 'u', 'v', 'w', 'x', 'y']"
      ]
     },
     "execution_count": 92,
     "metadata": {},
     "output_type": "execute_result"
    }
   ],
   "source": [
    "y"
   ]
  },
  {
   "cell_type": "code",
   "execution_count": 93,
   "id": "bb57f31b",
   "metadata": {},
   "outputs": [
    {
     "ename": "SyntaxError",
     "evalue": "invalid syntax (491814068.py, line 1)",
     "output_type": "error",
     "traceback": [
      "\u001b[0;36m  Cell \u001b[0;32mIn[93], line 1\u001b[0;36m\u001b[0m\n\u001b[0;31m    del[1:4]\u001b[0m\n\u001b[0m         ^\u001b[0m\n\u001b[0;31mSyntaxError\u001b[0m\u001b[0;31m:\u001b[0m invalid syntax\n"
     ]
    }
   ],
   "source": [
    "del[1:4]"
   ]
  },
  {
   "cell_type": "code",
   "execution_count": 94,
   "id": "b877b93e",
   "metadata": {},
   "outputs": [],
   "source": [
    "del y[1:4]"
   ]
  },
  {
   "cell_type": "code",
   "execution_count": 95,
   "id": "637bfd9d",
   "metadata": {},
   "outputs": [
    {
     "data": {
      "text/plain": [
       "['p', 'u', 'v', 'w', 'x', 'y']"
      ]
     },
     "execution_count": 95,
     "metadata": {},
     "output_type": "execute_result"
    }
   ],
   "source": [
    "\n",
    "y"
   ]
  },
  {
   "cell_type": "code",
   "execution_count": 96,
   "id": "b779f0fd",
   "metadata": {},
   "outputs": [],
   "source": [
    "del y"
   ]
  },
  {
   "cell_type": "code",
   "execution_count": 97,
   "id": "11dd119e",
   "metadata": {},
   "outputs": [
    {
     "ename": "NameError",
     "evalue": "name 'y' is not defined",
     "output_type": "error",
     "traceback": [
      "\u001b[0;31m---------------------------------------------------------------------------\u001b[0m",
      "\u001b[0;31mNameError\u001b[0m                                 Traceback (most recent call last)",
      "Cell \u001b[0;32mIn[97], line 1\u001b[0m\n\u001b[0;32m----> 1\u001b[0m \u001b[43my\u001b[49m\n",
      "\u001b[0;31mNameError\u001b[0m: name 'y' is not defined"
     ]
    }
   ],
   "source": [
    "y"
   ]
  },
  {
   "cell_type": "code",
   "execution_count": 98,
   "id": "9ee2bf07",
   "metadata": {},
   "outputs": [],
   "source": [
    "x=['p','q','r','s','t','u','v','w','x','y']\n"
   ]
  },
  {
   "cell_type": "code",
   "execution_count": 99,
   "id": "d9a6a576",
   "metadata": {},
   "outputs": [
    {
     "data": {
      "text/plain": [
       "['p', 'q', 'r', 's', 't', 'u', 'v', 'w', 'x', 'y']"
      ]
     },
     "execution_count": 99,
     "metadata": {},
     "output_type": "execute_result"
    }
   ],
   "source": [
    "x"
   ]
  },
  {
   "cell_type": "code",
   "execution_count": 103,
   "id": "bb13a713",
   "metadata": {},
   "outputs": [
    {
     "ename": "ValueError",
     "evalue": "list.remove(x): x not in list",
     "output_type": "error",
     "traceback": [
      "\u001b[0;31m---------------------------------------------------------------------------\u001b[0m",
      "\u001b[0;31mValueError\u001b[0m                                Traceback (most recent call last)",
      "Cell \u001b[0;32mIn[103], line 1\u001b[0m\n\u001b[0;32m----> 1\u001b[0m \u001b[43mx\u001b[49m\u001b[38;5;241;43m.\u001b[39;49m\u001b[43mremove\u001b[49m\u001b[43m(\u001b[49m\u001b[38;5;124;43m'\u001b[39;49m\u001b[38;5;124;43mr\u001b[39;49m\u001b[38;5;124;43m'\u001b[39;49m\u001b[43m)\u001b[49m\n",
      "\u001b[0;31mValueError\u001b[0m: list.remove(x): x not in list"
     ]
    }
   ],
   "source": [
    "x.remove('r')"
   ]
  },
  {
   "cell_type": "code",
   "execution_count": 104,
   "id": "1f92a966",
   "metadata": {},
   "outputs": [
    {
     "data": {
      "text/plain": [
       "['p', 'q', 's', 't', 'u', 'v', 'w', 'x', 'y']"
      ]
     },
     "execution_count": 104,
     "metadata": {},
     "output_type": "execute_result"
    }
   ],
   "source": [
    "x"
   ]
  },
  {
   "cell_type": "code",
   "execution_count": 105,
   "id": "4ae07afe",
   "metadata": {},
   "outputs": [],
   "source": [
    "x.remove('s')"
   ]
  },
  {
   "cell_type": "code",
   "execution_count": 106,
   "id": "11b47f83",
   "metadata": {},
   "outputs": [
    {
     "data": {
      "text/plain": [
       "['p', 'q', 't', 'u', 'v', 'w', 'x', 'y']"
      ]
     },
     "execution_count": 106,
     "metadata": {},
     "output_type": "execute_result"
    }
   ],
   "source": [
    "x"
   ]
  },
  {
   "cell_type": "code",
   "execution_count": 107,
   "id": "92667564",
   "metadata": {},
   "outputs": [
    {
     "name": "stdout",
     "output_type": "stream",
     "text": [
      "y\n"
     ]
    }
   ],
   "source": [
    "print(x.pop())"
   ]
  },
  {
   "cell_type": "code",
   "execution_count": 108,
   "id": "ce847c1f",
   "metadata": {},
   "outputs": [
    {
     "name": "stdout",
     "output_type": "stream",
     "text": [
      "['p', 'q', 't', 'u', 'v', 'w', 'x']\n"
     ]
    }
   ],
   "source": [
    "\n",
    "print(x)"
   ]
  },
  {
   "cell_type": "code",
   "execution_count": 109,
   "id": "ea2d56d0",
   "metadata": {},
   "outputs": [
    {
     "name": "stdout",
     "output_type": "stream",
     "text": [
      "x\n"
     ]
    }
   ],
   "source": [
    "print(x.pop())"
   ]
  },
  {
   "cell_type": "code",
   "execution_count": 110,
   "id": "740175c1",
   "metadata": {},
   "outputs": [
    {
     "name": "stdout",
     "output_type": "stream",
     "text": [
      "['p', 'q', 't', 'u', 'v', 'w']\n"
     ]
    }
   ],
   "source": [
    "print(x)"
   ]
  },
  {
   "cell_type": "code",
   "execution_count": 111,
   "id": "cc578758",
   "metadata": {},
   "outputs": [],
   "source": [
    "x.reverse()"
   ]
  },
  {
   "cell_type": "code",
   "execution_count": 112,
   "id": "7bc101a3",
   "metadata": {},
   "outputs": [
    {
     "data": {
      "text/plain": [
       "['w', 'v', 'u', 't', 'q', 'p']"
      ]
     },
     "execution_count": 112,
     "metadata": {},
     "output_type": "execute_result"
    }
   ],
   "source": [
    "x"
   ]
  },
  {
   "cell_type": "code",
   "execution_count": 113,
   "id": "8aaa6512",
   "metadata": {},
   "outputs": [],
   "source": [
    "x.clear()"
   ]
  },
  {
   "cell_type": "code",
   "execution_count": 114,
   "id": "ab0853f1",
   "metadata": {},
   "outputs": [
    {
     "data": {
      "text/plain": [
       "[]"
      ]
     },
     "execution_count": 114,
     "metadata": {},
     "output_type": "execute_result"
    }
   ],
   "source": [
    "x"
   ]
  },
  {
   "cell_type": "code",
   "execution_count": 115,
   "id": "0ac0dfd4",
   "metadata": {},
   "outputs": [],
   "source": [
    "new_list=[5,7,9,0,134,4,5,7,8,9,10]"
   ]
  },
  {
   "cell_type": "code",
   "execution_count": 116,
   "id": "06ff5a66",
   "metadata": {},
   "outputs": [
    {
     "data": {
      "text/plain": [
       "[5, 7, 9, 0, 134, 4, 5, 7, 8, 9, 10]"
      ]
     },
     "execution_count": 116,
     "metadata": {},
     "output_type": "execute_result"
    }
   ],
   "source": [
    "new_list"
   ]
  },
  {
   "cell_type": "code",
   "execution_count": 118,
   "id": "c433a1f7",
   "metadata": {},
   "outputs": [
    {
     "data": {
      "text/plain": [
       "4"
      ]
     },
     "execution_count": 118,
     "metadata": {},
     "output_type": "execute_result"
    }
   ],
   "source": [
    "new_list.index(134)"
   ]
  },
  {
   "cell_type": "code",
   "execution_count": 119,
   "id": "5c36b96e",
   "metadata": {},
   "outputs": [
    {
     "data": {
      "text/plain": [
       "2"
      ]
     },
     "execution_count": 119,
     "metadata": {},
     "output_type": "execute_result"
    }
   ],
   "source": [
    "new_list.count(9)"
   ]
  },
  {
   "cell_type": "code",
   "execution_count": 120,
   "id": "49ec815b",
   "metadata": {},
   "outputs": [
    {
     "data": {
      "text/plain": [
       "1"
      ]
     },
     "execution_count": 120,
     "metadata": {},
     "output_type": "execute_result"
    }
   ],
   "source": [
    "new_list.count(10)"
   ]
  },
  {
   "cell_type": "code",
   "execution_count": 121,
   "id": "48f619cd",
   "metadata": {},
   "outputs": [
    {
     "ename": "NameError",
     "evalue": "name 'mew_list' is not defined",
     "output_type": "error",
     "traceback": [
      "\u001b[0;31m---------------------------------------------------------------------------\u001b[0m",
      "\u001b[0;31mNameError\u001b[0m                                 Traceback (most recent call last)",
      "Cell \u001b[0;32mIn[121], line 1\u001b[0m\n\u001b[0;32m----> 1\u001b[0m \u001b[43mmew_list\u001b[49m\u001b[38;5;241m.\u001b[39msort()\n",
      "\u001b[0;31mNameError\u001b[0m: name 'mew_list' is not defined"
     ]
    }
   ],
   "source": [
    "mew_list.sort()"
   ]
  },
  {
   "cell_type": "code",
   "execution_count": 122,
   "id": "2db546a6",
   "metadata": {},
   "outputs": [],
   "source": [
    "new_list.sort()"
   ]
  },
  {
   "cell_type": "code",
   "execution_count": 123,
   "id": "adad71ed",
   "metadata": {},
   "outputs": [
    {
     "data": {
      "text/plain": [
       "[0, 4, 5, 5, 7, 7, 8, 9, 9, 10, 134]"
      ]
     },
     "execution_count": 123,
     "metadata": {},
     "output_type": "execute_result"
    }
   ],
   "source": [
    "new_list"
   ]
  },
  {
   "cell_type": "code",
   "execution_count": 124,
   "id": "620ddb1b",
   "metadata": {},
   "outputs": [],
   "source": [
    "#using if statement to check the list\n"
   ]
  },
  {
   "cell_type": "code",
   "execution_count": 126,
   "id": "6ed0087c",
   "metadata": {},
   "outputs": [
    {
     "name": "stdout",
     "output_type": "stream",
     "text": [
      "nokia is in the list\n"
     ]
    }
   ],
   "source": [
    "device=['samsung','nokia','iphone','mi','blue','vivo']\n",
    "if 'nokia' in device:\n",
    "    print(\"nokia is in the list\")"
   ]
  },
  {
   "cell_type": "code",
   "execution_count": 127,
   "id": "88e9a0d5",
   "metadata": {},
   "outputs": [],
   "source": [
    "device=['samsung','nokia','iphone','mi','blue','vivo']\n",
    "device.insert(2,'oppo')"
   ]
  },
  {
   "cell_type": "code",
   "execution_count": 128,
   "id": "b1e60114",
   "metadata": {},
   "outputs": [
    {
     "data": {
      "text/plain": [
       "['samsung', 'nokia', 'oppo', 'iphone', 'mi', 'blue', 'vivo']"
      ]
     },
     "execution_count": 128,
     "metadata": {},
     "output_type": "execute_result"
    }
   ],
   "source": [
    "device"
   ]
  },
  {
   "cell_type": "code",
   "execution_count": 129,
   "id": "3ecfeae5",
   "metadata": {},
   "outputs": [
    {
     "ename": "TypeError",
     "evalue": "'builtin_function_or_method' object is not subscriptable",
     "output_type": "error",
     "traceback": [
      "\u001b[0;31m---------------------------------------------------------------------------\u001b[0m",
      "\u001b[0;31mTypeError\u001b[0m                                 Traceback (most recent call last)",
      "Cell \u001b[0;32mIn[129], line 1\u001b[0m\n\u001b[0;32m----> 1\u001b[0m \u001b[43mdevice\u001b[49m\u001b[38;5;241;43m.\u001b[39;49m\u001b[43mindex\u001b[49m\u001b[43m[\u001b[49m\u001b[38;5;241;43m1\u001b[39;49m\u001b[43m]\u001b[49m\n",
      "\u001b[0;31mTypeError\u001b[0m: 'builtin_function_or_method' object is not subscriptable"
     ]
    }
   ],
   "source": [
    "device.index[1]"
   ]
  },
  {
   "cell_type": "code",
   "execution_count": 130,
   "id": "352de560",
   "metadata": {},
   "outputs": [
    {
     "data": {
      "text/plain": [
       "1"
      ]
     },
     "execution_count": 130,
     "metadata": {},
     "output_type": "execute_result"
    }
   ],
   "source": [
    "device.index('nokia')"
   ]
  },
  {
   "cell_type": "code",
   "execution_count": 131,
   "id": "433e276a",
   "metadata": {},
   "outputs": [
    {
     "data": {
      "text/plain": [
       "'nokia'"
      ]
     },
     "execution_count": 131,
     "metadata": {},
     "output_type": "execute_result"
    }
   ],
   "source": [
    "device[1]"
   ]
  },
  {
   "cell_type": "code",
   "execution_count": 132,
   "id": "6341371e",
   "metadata": {},
   "outputs": [
    {
     "name": "stdout",
     "output_type": "stream",
     "text": [
      "samsung\n",
      "nokia\n",
      "oppo\n",
      "iphone\n",
      "mi\n",
      "blue\n",
      "vivo\n"
     ]
    }
   ],
   "source": [
    "for x in device:\n",
    "    print(x)"
   ]
  },
  {
   "cell_type": "code",
   "execution_count": 137,
   "id": "e170d84a",
   "metadata": {},
   "outputs": [
    {
     "name": "stdout",
     "output_type": "stream",
     "text": [
      "samsung*nokia*oppo*iphone*mi*blue*vivo*"
     ]
    }
   ],
   "source": [
    "for x in device:\n",
    "    print(x,end=\"*\")"
   ]
  },
  {
   "cell_type": "code",
   "execution_count": 138,
   "id": "8b5ac414",
   "metadata": {},
   "outputs": [
    {
     "name": "stdout",
     "output_type": "stream",
     "text": [
      "samsung nokia oppo iphone mi blue vivo "
     ]
    }
   ],
   "source": [
    " for x in device:\n",
    "        print(x,end=\" \")"
   ]
  },
  {
   "cell_type": "code",
   "execution_count": 139,
   "id": "64882e50",
   "metadata": {},
   "outputs": [
    {
     "name": "stdout",
     "output_type": "stream",
     "text": [
      "vivo\n"
     ]
    }
   ],
   "source": [
    "print(x)"
   ]
  },
  {
   "cell_type": "code",
   "execution_count": 140,
   "id": "9c53f6f3",
   "metadata": {},
   "outputs": [
    {
     "name": "stdout",
     "output_type": "stream",
     "text": [
      "['samsung', 'nokia', 'oppo', 'iphone', 'mi', 'blue', 'vivo']\n"
     ]
    }
   ],
   "source": [
    "print(device)"
   ]
  },
  {
   "cell_type": "code",
   "execution_count": 2,
   "id": "5a4d3a97",
   "metadata": {},
   "outputs": [
    {
     "data": {
      "text/plain": [
       "6"
      ]
     },
     "execution_count": 2,
     "metadata": {},
     "output_type": "execute_result"
    }
   ],
   "source": [
    "device=['samsung','nokia','iphone','mi','blue','vivo']\n",
    "len(device)"
   ]
  },
  {
   "cell_type": "code",
   "execution_count": 3,
   "id": "eb644e1f",
   "metadata": {},
   "outputs": [
    {
     "data": {
      "text/plain": [
       "'vivo'"
      ]
     },
     "execution_count": 3,
     "metadata": {},
     "output_type": "execute_result"
    }
   ],
   "source": [
    "device[5]\n",
    "\n",
    "    "
   ]
  },
  {
   "cell_type": "code",
   "execution_count": 5,
   "id": "0ab8725c",
   "metadata": {},
   "outputs": [
    {
     "name": "stdout",
     "output_type": "stream",
     "text": [
      "iphone\n",
      "mi\n",
      "blue\n",
      "vivo\n"
     ]
    }
   ],
   "source": [
    "i=2\n",
    "while i<len(device):\n",
    "    print(device[i])\n",
    "    i=i+1"
   ]
  },
  {
   "cell_type": "code",
   "execution_count": 20,
   "id": "91795f96",
   "metadata": {},
   "outputs": [
    {
     "name": "stdout",
     "output_type": "stream",
     "text": [
      "['samsung', 'nokia']\n"
     ]
    }
   ],
   "source": [
    "device=['samsung','nokia','iphone','mi','blue','vivo']\n",
    "new_list=[]\n",
    "for x in device:\n",
    "    if 'a' in x:\n",
    "        new_list.append(x)\n",
    "print(new_list)"
   ]
  },
  {
   "cell_type": "code",
   "execution_count": 25,
   "id": "1093882a",
   "metadata": {},
   "outputs": [
    {
     "name": "stdout",
     "output_type": "stream",
     "text": [
      "['samsung', 'nokia', 'iphone', 'mi', 'blue', 'vivo']\n"
     ]
    }
   ],
   "source": [
    "device=['samsung','nokia','iphone','mi','blue','vivo']\n",
    "new_list=[]\n",
    "for x in device:\n",
    "    new_list.append(x)\n",
    "print(new_list)\n",
    "\n"
   ]
  },
  {
   "cell_type": "code",
   "execution_count": 32,
   "id": "e6a53736",
   "metadata": {},
   "outputs": [
    {
     "name": "stdout",
     "output_type": "stream",
     "text": [
      "The sum is: 8\n"
     ]
    }
   ],
   "source": [
    "def na_aa(x,y):\n",
    "    add=x+y\n",
    "    return add\n",
    "\n",
    "print(\"The sum is:\",na_aa(num1,num2))\n"
   ]
  },
  {
   "cell_type": "code",
   "execution_count": 29,
   "id": "eec702c3",
   "metadata": {},
   "outputs": [
    {
     "data": {
      "text/plain": [
       "130"
      ]
     },
     "execution_count": 29,
     "metadata": {},
     "output_type": "execute_result"
    }
   ],
   "source": []
  },
  {
   "cell_type": "code",
   "execution_count": 33,
   "id": "b54217ae",
   "metadata": {},
   "outputs": [
    {
     "name": "stdout",
     "output_type": "stream",
     "text": [
      "The sum is: 8\n"
     ]
    }
   ],
   "source": [
    "def na_aa(x,y):\n",
    "    add=x+y\n",
    "    return add\n",
    "print(\"The sum is:\",na_aa(num1,num2))\n"
   ]
  },
  {
   "cell_type": "code",
   "execution_count": 36,
   "id": "e5d99a81",
   "metadata": {},
   "outputs": [
    {
     "name": "stdout",
     "output_type": "stream",
     "text": [
      "The sum is: 7\n"
     ]
    }
   ],
   "source": [
    "def  na_bb(x1,x2):\n",
    "    add=x1+x2\n",
    "    return add\n",
    "x1=4\n",
    "x2=3\n",
    "print(\"The sum is:\",na_bb(x1,x2))"
   ]
  },
  {
   "cell_type": "code",
   "execution_count": 37,
   "id": "ba69e124",
   "metadata": {},
   "outputs": [
    {
     "data": {
      "text/plain": [
       "13"
      ]
     },
     "execution_count": 37,
     "metadata": {},
     "output_type": "execute_result"
    }
   ],
   "source": [
    "na_bb(5,8)"
   ]
  },
  {
   "cell_type": "code",
   "execution_count": 38,
   "id": "e793a3f5",
   "metadata": {},
   "outputs": [
    {
     "name": "stdout",
     "output_type": "stream",
     "text": [
      "['axe', 'ball', 'vran', 'nest']\n"
     ]
    }
   ],
   "source": [
    "list1=['axe','ball','vran','nest']\n",
    "list2=[]\n",
    "list2=list1.copy()\n",
    "print(list2)\n"
   ]
  },
  {
   "cell_type": "code",
   "execution_count": 39,
   "id": "139ffb70",
   "metadata": {},
   "outputs": [
    {
     "data": {
      "text/plain": [
       "['axe', 'ball', 'vran', 'nest']"
      ]
     },
     "execution_count": 39,
     "metadata": {},
     "output_type": "execute_result"
    }
   ],
   "source": [
    "list2\n"
   ]
  },
  {
   "cell_type": "code",
   "execution_count": 42,
   "id": "c3ab7883",
   "metadata": {},
   "outputs": [
    {
     "name": "stdout",
     "output_type": "stream",
     "text": [
      "['b', 'c', 'd', 'e', 'f', 1, 2, 3, 4, 5]\n"
     ]
    }
   ],
   "source": [
    "list3=['b','c','d','e','f']\n",
    "list4=[1,2,3,4,5]\n",
    "list5=list3+list4\n",
    "print(list5)"
   ]
  },
  {
   "cell_type": "code",
   "execution_count": 41,
   "id": "f6537457",
   "metadata": {},
   "outputs": [
    {
     "data": {
      "text/plain": [
       "list"
      ]
     },
     "execution_count": 41,
     "metadata": {},
     "output_type": "execute_result"
    }
   ],
   "source": [
    "list\n"
   ]
  },
  {
   "cell_type": "code",
   "execution_count": 43,
   "id": "eb827255",
   "metadata": {},
   "outputs": [
    {
     "data": {
      "text/plain": [
       "['b', 'c', 'd', 'e', 'f', 1, 2, 3, 4, 5]"
      ]
     },
     "execution_count": 43,
     "metadata": {},
     "output_type": "execute_result"
    }
   ],
   "source": [
    "list5\n"
   ]
  },
  {
   "cell_type": "code",
   "execution_count": 46,
   "id": "0cd560c1",
   "metadata": {},
   "outputs": [
    {
     "name": "stdout",
     "output_type": "stream",
     "text": [
      "b\n",
      "c\n",
      "d\n",
      "e\n",
      "f\n",
      "1\n",
      "2\n",
      "3\n",
      "4\n",
      "5\n"
     ]
    }
   ],
   "source": [
    "for x in list5:\n",
    "    print(x)\n"
   ]
  },
  {
   "cell_type": "code",
   "execution_count": 47,
   "id": "8d9d6248",
   "metadata": {},
   "outputs": [
    {
     "data": {
      "text/plain": [
       "10"
      ]
     },
     "execution_count": 47,
     "metadata": {},
     "output_type": "execute_result"
    }
   ],
   "source": [
    "len(list5)"
   ]
  },
  {
   "cell_type": "code",
   "execution_count": 52,
   "id": "31083620",
   "metadata": {},
   "outputs": [
    {
     "name": "stdout",
     "output_type": "stream",
     "text": [
      "d\n",
      "e\n",
      "f\n",
      "1\n",
      "2\n",
      "3\n",
      "4\n",
      "5\n"
     ]
    }
   ],
   "source": [
    "list5=['b', 'c', 'd', 'e', 'f', 1, 2, 3, 4, 5]\n",
    "i=2\n",
    "while i<len(list5):\n",
    "    print(list5[i])\n",
    "    i=i+1"
   ]
  },
  {
   "cell_type": "code",
   "execution_count": 62,
   "id": "d4db2ed4",
   "metadata": {},
   "outputs": [
    {
     "name": "stdout",
     "output_type": "stream",
     "text": [
      "[10, 12, 'b', 'c', 'd', 'e', 'f', 1, 2, 3, 4, 5]\n"
     ]
    }
   ],
   "source": [
    "list5=['b', 'c', 'd', 'e', 'f', 1, 2, 3, 4, 5]#extend\n",
    "list6=[10,12]\n",
    "list6.extend(list5)\n",
    "print(list6)"
   ]
  },
  {
   "cell_type": "code",
   "execution_count": 63,
   "id": "4e8804a0",
   "metadata": {},
   "outputs": [
    {
     "name": "stdout",
     "output_type": "stream",
     "text": [
      "[10, 12, ['b', 'c', 'd', 'e', 'f', 1, 2, 3, 4, 5]]\n"
     ]
    }
   ],
   "source": [
    "list5=['b', 'c', 'd', 'e', 'f', 1, 2, 3, 4, 5]#append\n",
    "list6=[10,12]\n",
    "list6.append(list5)\n",
    "print(list6)"
   ]
  },
  {
   "cell_type": "code",
   "execution_count": 66,
   "id": "0b3a1174",
   "metadata": {},
   "outputs": [
    {
     "name": "stdout",
     "output_type": "stream",
     "text": [
      "['par', 'car', 'toy', 1, 2, 3, 4, 'a', 'b', 'c', 'd', 'e', 10, 11, 12]\n"
     ]
    }
   ],
   "source": [
    "list4=['par','car','toy',1,2,3,4]\n",
    "list5=['a','b','c','d','e',10,11,12]\n",
    "for x in list5:\n",
    "    list4.append(x)\n",
    "print(list4)"
   ]
  },
  {
   "cell_type": "code",
   "execution_count": 71,
   "id": "9d62fa4a",
   "metadata": {},
   "outputs": [
    {
     "name": "stdout",
     "output_type": "stream",
     "text": [
      "[3, 4, 5, 6, 7, 8, 9, 10, 11]\n"
     ]
    }
   ],
   "source": [
    " #list comprehension\n",
    "two_value=[x+2 for x in range(1,10)]\n",
    "print(two_value)"
   ]
  },
  {
   "cell_type": "code",
   "execution_count": null,
   "id": "c29ddb2b",
   "metadata": {},
   "outputs": [],
   "source": []
  },
  {
   "cell_type": "code",
   "execution_count": null,
   "id": "b37b000e",
   "metadata": {},
   "outputs": [],
   "source": []
  }
 ],
 "metadata": {
  "kernelspec": {
   "display_name": "Python 3 (ipykernel)",
   "language": "python",
   "name": "python3"
  },
  "language_info": {
   "codemirror_mode": {
    "name": "ipython",
    "version": 3
   },
   "file_extension": ".py",
   "mimetype": "text/x-python",
   "name": "python",
   "nbconvert_exporter": "python",
   "pygments_lexer": "ipython3",
   "version": "3.10.9"
  }
 },
 "nbformat": 4,
 "nbformat_minor": 5
}
