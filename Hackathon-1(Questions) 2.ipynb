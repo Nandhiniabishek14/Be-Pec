{
 "cells": [
  {
   "cell_type": "markdown",
   "metadata": {},
   "source": [
    "# if Statements"
   ]
  },
  {
   "cell_type": "code",
   "execution_count": 5,
   "metadata": {},
   "outputs": [
    {
     "name": "stdout",
     "output_type": "stream",
     "text": [
      "Enter the number:100\n",
      "The number is: 100\n",
      "The number increment by 1: 101\n"
     ]
    }
   ],
   "source": [
    "#increment the value by 1\n",
    "\n",
    "n=int(input(\"Enter the number:\" ))\n",
    "print(\"The number is:\", n,end='\\n')\n",
    "n+=1\n",
    "print(\"The number increment by 1:\",n)\n"
   ]
  },
  {
   "cell_type": "code",
   "execution_count": 6,
   "metadata": {},
   "outputs": [
    {
     "name": "stdout",
     "output_type": "stream",
     "text": [
      "Enter the age of a person:20\n",
      "Person is eligible to vote\n"
     ]
    }
   ],
   "source": [
    "#Determine weather a person is eligible to vote by using  input \n",
    "\n",
    "age=int(input(\"Enter the age of a person:\"))\n",
    "if age>18:\n",
    "    print(\"Person is eligible to vote\")\n",
    "else:\n",
    "    print(\"person is not eligible\")\n",
    "    "
   ]
  },
  {
   "cell_type": "markdown",
   "metadata": {},
   "source": [
    "# if - else Statements"
   ]
  },
  {
   "cell_type": "code",
   "execution_count": 26,
   "metadata": {},
   "outputs": [
    {
     "name": "stdout",
     "output_type": "stream",
     "text": [
      "Enter the number: 24\n",
      "24 is even\n"
     ]
    }
   ],
   "source": [
    "#find the number is even or odd by using input \n",
    "n=int(input(\"Enter the number: \"))\n",
    "if n==1:\n",
    "    print(n,\"is odd\")\n",
    "else:\n",
    "    if n%2==0:\n",
    "        print(n,\"is even\")\n",
    "    else:\n",
    "        print(n,\"odd\")\n"
   ]
  },
  {
   "cell_type": "code",
   "execution_count": 2,
   "metadata": {},
   "outputs": [
    {
     "name": "stdout",
     "output_type": "stream",
     "text": [
      "Enter the salary:5000\n",
      "Enter the gender:female\n",
      "New year salary of employee is  6250.0\n"
     ]
    }
   ],
   "source": [
    "# A company decides to give bonus to all its employees on New year. A 10% bonus on salary for all the male workers and\n",
    "# 25% to females. build a programme to enter Salary and Gender(m or F) of employee. \n",
    "salary=int(input(\"Enter the salary:\"))\n",
    "Gender=input(\"Enter the gender:\")\n",
    "if Gender=='male':\n",
    "    bonus=10*salary/100\n",
    "    salary=salary+bonus\n",
    "    print(\"New year salary of employee is:\",salary)\n",
    "elif Gender=='female':\n",
    "    bonus=25*salary/100\n",
    "    salary=salary+bonus\n",
    "    print(\"New year salary of employee is \",salary)"
   ]
  },
  {
   "cell_type": "markdown",
   "metadata": {},
   "source": [
    "# if -elif- else Statement"
   ]
  },
  {
   "cell_type": "code",
   "execution_count": 3,
   "metadata": {
    "scrolled": true
   },
   "outputs": [
    {
     "name": "stdout",
     "output_type": "stream",
     "text": [
      "Enter the number10\n",
      "The Entered number is positive\n"
     ]
    }
   ],
   "source": [
    "# check weather the number is positive or negitive or equal to zero using input\n",
    "n=int(input(\"Enter the number\"))\n",
    "if n==0:\n",
    "    print(\"The Entered number is zero\")\n",
    "elif n<0:\n",
    "    print(\"The Entered number is negative\")\n",
    "else:\n",
    "    print(\"The Entered number is positive\")\n"
   ]
  },
  {
   "cell_type": "code",
   "execution_count": 4,
   "metadata": {},
   "outputs": [
    {
     "name": "stdout",
     "output_type": "stream",
     "text": [
      "Enter the character:u\n",
      "u is a vowel\n"
     ]
    }
   ],
   "source": [
    "# Test Weather the charcter is vowel or not vowel using input\n",
    "v=['a','e','i','o','u']\n",
    "n=input('Enter the character:')\n",
    "for i in n:\n",
    "    if i in v:\n",
    "        print(n,\"is a vowel\")\n",
    "    else:\n",
    "        print(n,\"is not a vowel\")\n",
    "    \n",
    "    \n"
   ]
  },
  {
   "cell_type": "code",
   "execution_count": 56,
   "metadata": {},
   "outputs": [
    {
     "name": "stdout",
     "output_type": "stream",
     "text": [
      "Enter the number:22\n",
      "It is medium Even number\n"
     ]
    }
   ],
   "source": [
    "#Given an integer input perform the following conditional actions:\n",
    "\n",
    "#If n is odd, print odd\n",
    "#If n is even and in the inclusive range of 2 to 5, print small\n",
    "#If n is even and in the inclusive range of 6 to 20, print medium\n",
    "#If n is even and greater than 20, print big\n",
    "\n",
    "n=int(input(\"Enter the number:\"))\n",
    "if n%2!=0:\n",
    "    print(\"It is odd\")\n",
    "else:\n",
    "    if n>=2 &n>=5:\n",
    "        print(\"It is even and small\")\n",
    "    elif n>=6 &n<=20:\n",
    "        print(\"It is medium Even number\")\n",
    "    else:\n",
    "        print(\"It is bigger even number\")"
   ]
  },
  {
   "cell_type": "markdown",
   "metadata": {},
   "source": [
    "# while loop "
   ]
  },
  {
   "cell_type": "code",
   "execution_count": 68,
   "metadata": {},
   "outputs": [
    {
     "name": "stdout",
     "output_type": "stream",
     "text": [
      "1\n",
      "2\n",
      "3\n",
      "4\n",
      "5\n",
      "6\n",
      "7\n",
      "8\n",
      "9\n",
      "10\n"
     ]
    }
   ],
   "source": [
    "# print first 10 numbers \n",
    "i=1\n",
    "while i<11:\n",
    "    print(i)\n",
    "    i=i+1"
   ]
  },
  {
   "cell_type": "code",
   "execution_count": 5,
   "metadata": {},
   "outputs": [
    {
     "name": "stdout",
     "output_type": "stream",
     "text": [
      "The sum 55\n"
     ]
    }
   ],
   "source": [
    "# find average and sum for first 10 number                                                                                                                                                                                                                                                                                                                                                                                                                                                                                                                                                                                                                                                                                                                                                                                                                                                                                                                                                                                                                                                                                                                                         \n",
    "sum=0\n",
    "i=1\n",
    "while i<=10:\n",
    "    sum=sum+i\n",
    "    i=i+1\n",
    "print(\"The sum\",sum)\n",
    "    \n"
   ]
  },
  {
   "cell_type": "code",
   "execution_count": 8,
   "metadata": {},
   "outputs": [
    {
     "name": "stdout",
     "output_type": "stream",
     "text": [
      "_______________________________________________________"
     ]
    }
   ],
   "source": [
    "#Draw a line using while loop \n",
    "i=1\n",
    "while i<=10:\n",
    "    print(\"_\"*i,end=\"\")\n",
    "    i=i+1\n"
   ]
  },
  {
   "cell_type": "code",
   "execution_count": 12,
   "metadata": {},
   "outputs": [
    {
     "name": "stdout",
     "output_type": "stream",
     "text": [
      "Enter the 1st number1\n",
      "Enter the 2nd number10\n",
      "sum of 1 to 10 number: 55\n"
     ]
    }
   ],
   "source": [
    "#calculate the sum of m to n  numbers using input\n",
    "m=int(input(\"Enter the 1st number\"))\n",
    "n=int(input(\"Enter the 2nd number\"))\n",
    "sum=0\n",
    "for i in range(m,n+1):\n",
    "    sum=sum+i\n",
    "print(\"sum of\",m,\"to\",n,\"number:\",sum)"
   ]
  },
  {
   "cell_type": "code",
   "execution_count": 19,
   "metadata": {},
   "outputs": [
    {
     "name": "stdout",
     "output_type": "stream",
     "text": [
      "10\n",
      "9\n",
      "8\n",
      "7\n",
      "6\n",
      "5\n",
      "4\n",
      "3\n",
      "2\n",
      "1\n",
      "0\n"
     ]
    }
   ],
   "source": [
    "# countdown 10 to 0 using input\n",
    "i=10\n",
    "while i>=0:\n",
    "    print(i)\n",
    "    i=i-1\n",
    "\n",
    "    \n"
   ]
  },
  {
   "cell_type": "markdown",
   "metadata": {},
   "source": [
    "# for loop "
   ]
  },
  {
   "cell_type": "code",
   "execution_count": 27,
   "metadata": {},
   "outputs": [
    {
     "name": "stdout",
     "output_type": "stream",
     "text": [
      "Enter the table number:2\n",
      "1 x 2 = 2\n",
      "2 x 2 = 4\n",
      "3 x 2 = 6\n",
      "4 x 2 = 8\n",
      "5 x 2 = 10\n",
      "6 x 2 = 12\n",
      "7 x 2 = 14\n",
      "8 x 2 = 16\n",
      "9 x 2 = 18\n",
      "10 x 2 = 20\n",
      "11 x 2 = 22\n"
     ]
    }
   ],
   "source": [
    "#Multiplication table using input\n",
    "n=int(input(\"Enter the table number:\"))\n",
    "for i in range(1,12):\n",
    "    print(i,\"x\",n,\"=\",i*n)\n"
   ]
  },
  {
   "cell_type": "code",
   "execution_count": 55,
   "metadata": {},
   "outputs": [
    {
     "name": "stdout",
     "output_type": "stream",
     "text": [
      "Enter the 1st number1\n",
      "Enter the second number10\n",
      "odd number between 1 and 10\n",
      "1 \n",
      "\n",
      "3 \n",
      "\n",
      "5 \n",
      "\n",
      "7 \n",
      "\n",
      "9 \n",
      "\n",
      "Enter the 1st number2\n",
      "Enter the second number15\n",
      "Even number between 2 and 15\n",
      "2 \n",
      "\n",
      "4 \n",
      "\n",
      "6 \n",
      "\n",
      "8 \n",
      "\n",
      "10 \n",
      "\n",
      "12 \n",
      "\n",
      "14 \n",
      "\n"
     ]
    }
   ],
   "source": [
    "#print even and odd for range of number\n",
    "m=int(input(\"Enter the 1st number\"))\n",
    "n=int(input(\"Enter the second number\"))\n",
    "print(\"odd number between\",m ,\"and\",n)\n",
    "\n",
    "for i in range(m,n+1):\n",
    "    if i%2!=0:\n",
    "        print(i,end=\" \")\n",
    "    print()\n",
    "        \n",
    "s=int(input(\"Enter the 1st number\"))\n",
    "t=int(input(\"Enter the second number\"))       \n",
    "print(\"Even number between\",s ,\"and\",t)       \n",
    "for i in range(s,t+1):\n",
    "    if i%2==0:\n",
    "        print(i,end=\" \")\n",
    "    print()\n",
    "    \n"
   ]
  },
  {
   "cell_type": "code",
   "execution_count": 59,
   "metadata": {},
   "outputs": [
    {
     "name": "stdout",
     "output_type": "stream",
     "text": [
      "0\n",
      "1\n",
      "2\n",
      "3\n",
      "4\n"
     ]
    }
   ],
   "source": [
    "# break statement\n",
    "\n",
    "#break statement is used to terminate the loop when the \n",
    "#particular condition is satisfied\n",
    "\n",
    "for i in range(10):\n",
    "    if i==5:\n",
    "        break\n",
    "    print(i)"
   ]
  },
  {
   "cell_type": "code",
   "execution_count": 61,
   "metadata": {},
   "outputs": [
    {
     "name": "stdout",
     "output_type": "stream",
     "text": [
      "0\n",
      "1\n",
      "2\n",
      "3\n",
      "4\n",
      "6\n",
      "7\n",
      "8\n",
      "9\n"
     ]
    }
   ],
   "source": [
    "#countinue statement \n",
    "\n",
    "#continue keyword is used to end the iteration of a loop \n",
    "#and continue the next iteration\n",
    "for i in range(10):\n",
    "    if i==5:\n",
    "        continue\n",
    "    print(i)"
   ]
  },
  {
   "cell_type": "code",
   "execution_count": 64,
   "metadata": {},
   "outputs": [
    {
     "name": "stdout",
     "output_type": "stream",
     "text": [
      "Enter the year:1802\n",
      "The year is not a leap year\n"
     ]
    }
   ],
   "source": [
    "# all leap years from 1800 - 2021\n",
    "\n",
    "c=int(input(\"Enter the year:\"))\n",
    "if (c%4==0) and (c%100!=0):\n",
    "    print(\"The year is a leap year\")\n",
    "else:\n",
    "    print(\"The year is not a leap year\")\n",
    "    "
   ]
  },
  {
   "cell_type": "markdown",
   "metadata": {},
   "source": [
    "# User defined function "
   ]
  },
  {
   "cell_type": "code",
   "execution_count": 2,
   "metadata": {},
   "outputs": [
    {
     "name": "stdout",
     "output_type": "stream",
     "text": [
      "Enter the first number:10\n",
      "Enter the second number20\n",
      "The addition is: 30\n",
      "The subtraction is: -10\n"
     ]
    },
    {
     "data": {
      "text/plain": [
       "9"
      ]
     },
     "execution_count": 2,
     "metadata": {},
     "output_type": "execute_result"
    }
   ],
   "source": [
    "#creating arethematic operators using user defined functions\n",
    "n1=int(input(\"Enter the first number:\"))\n",
    "n2=int(input(\"Enter the second number\"))\n",
    "def add1(n1,n2):\n",
    "    return n1+n2\n",
    "def sub1(n1,n2):\n",
    "    return n1-n2\n",
    "print(\"The addition is:\",add1(n1,n2))\n",
    "print(\"The subtraction is:\",sub1(n1,n2))\n",
    "add1(2,7)"
   ]
  },
  {
   "cell_type": "code",
   "execution_count": 15,
   "metadata": {},
   "outputs": [
    {
     "name": "stdout",
     "output_type": "stream",
     "text": [
      "welcome nan\n",
      "welcome nana\n"
     ]
    }
   ],
   "source": [
    "#Welcome With input \n",
    "\n",
    "def greet(name):\n",
    "    print(\"welcome\",name)\n",
    "    return\n",
    "greet('nan')\n",
    "greet('nana')"
   ]
  },
  {
   "cell_type": "markdown",
   "metadata": {},
   "source": [
    "# Lambda function "
   ]
  },
  {
   "cell_type": "code",
   "execution_count": 20,
   "metadata": {},
   "outputs": [
    {
     "data": {
      "text/plain": [
       "11"
      ]
     },
     "execution_count": 20,
     "metadata": {},
     "output_type": "execute_result"
    }
   ],
   "source": [
    "# sum using lambda function\n",
    "sum=lambda x,y:x+y\n",
    "sum(1,10)\n"
   ]
  },
  {
   "cell_type": "code",
   "execution_count": 19,
   "metadata": {},
   "outputs": [
    {
     "data": {
      "text/plain": [
       "89"
      ]
     },
     "execution_count": 19,
     "metadata": {},
     "output_type": "execute_result"
    }
   ],
   "source": [
    "sum1=lambda x,y,z:x+y+z\n",
    "sum1(19,20,50)"
   ]
  },
  {
   "cell_type": "code",
   "execution_count": 25,
   "metadata": {},
   "outputs": [
    {
     "name": "stdout",
     "output_type": "stream",
     "text": [
      "[0, 1, 2, 3, 4, 5, 6, 7, 8, 9, 10, 11, 12, 13, 14, 15, 16, 17, 18, 19]\n"
     ]
    }
   ],
   "source": [
    "# create a list using loop\n",
    "\n",
    "li=[]\n",
    "for i in range(20):\n",
    "    li.append(i)\n",
    "print(li)"
   ]
  },
  {
   "cell_type": "code",
   "execution_count": 26,
   "metadata": {},
   "outputs": [
    {
     "name": "stdout",
     "output_type": "stream",
     "text": [
      "[0, 1, 2, 3, 4, 5, 6, 7, 8, 9, 10]\n"
     ]
    }
   ],
   "source": [
    "#create a list of first 10 number using list comprehension\n",
    "new_list=[i for i in range(11)]\n",
    "print(new_list)"
   ]
  },
  {
   "cell_type": "code",
   "execution_count": 29,
   "metadata": {},
   "outputs": [
    {
     "name": "stdout",
     "output_type": "stream",
     "text": [
      "[2, 4, 6, 10]\n"
     ]
    }
   ],
   "source": [
    "# select all the even number form the list with filter()\n",
    "list1=[1,2,3,4,6,9,10]\n",
    "def even1(x):\n",
    "    return x%2==0\n",
    "li2=list(filter(even1,list1))\n",
    "print(li2)"
   ]
  },
  {
   "cell_type": "code",
   "execution_count": 31,
   "metadata": {},
   "outputs": [
    {
     "name": "stdout",
     "output_type": "stream",
     "text": [
      "[9, 16, 25, 49, 64, 81, 100]\n"
     ]
    }
   ],
   "source": [
    "# get  the squiares of numbers form the list with map()\n",
    "list2=[3,4,5,7,8,9,10]\n",
    "def square_num(x):\n",
    "    return x*x\n",
    "new_list=list(map(square_num,list2))\n",
    "print(new_list)"
   ]
  },
  {
   "cell_type": "code",
   "execution_count": 32,
   "metadata": {},
   "outputs": [
    {
     "name": "stdout",
     "output_type": "stream",
     "text": [
      "The sum of element in the list: 72\n"
     ]
    }
   ],
   "source": [
    "#get the sum of numbers of the list using reduce()\n",
    "import functools\n",
    "import operator\n",
    "list3=[1,19,1,18,17,16]\n",
    "print(\"The sum of element in the list:\",end=\" \")\n",
    "print(functools.reduce(operator.add,list3))"
   ]
  },
  {
   "cell_type": "code",
   "execution_count": null,
   "metadata": {},
   "outputs": [],
   "source": []
  }
 ],
 "metadata": {
  "kernelspec": {
   "display_name": "Python 3 (ipykernel)",
   "language": "python",
   "name": "python3"
  },
  "language_info": {
   "codemirror_mode": {
    "name": "ipython",
    "version": 3
   },
   "file_extension": ".py",
   "mimetype": "text/x-python",
   "name": "python",
   "nbconvert_exporter": "python",
   "pygments_lexer": "ipython3",
   "version": "3.10.9"
  },
  "toc": {
   "base_numbering": 1,
   "nav_menu": {},
   "number_sections": true,
   "sideBar": true,
   "skip_h1_title": false,
   "title_cell": "Table of Contents",
   "title_sidebar": "Contents",
   "toc_cell": false,
   "toc_position": {},
   "toc_section_display": true,
   "toc_window_display": true
  }
 },
 "nbformat": 4,
 "nbformat_minor": 2
}
