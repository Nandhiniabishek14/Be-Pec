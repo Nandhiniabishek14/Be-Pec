{
 "cells": [
  {
   "cell_type": "markdown",
   "id": "717bd76e",
   "metadata": {},
   "source": [
    "# Python Home Task\n"
   ]
  },
  {
   "cell_type": "code",
   "execution_count": 2,
   "id": "dbd2a976",
   "metadata": {},
   "outputs": [
    {
     "name": "stdout",
     "output_type": "stream",
     "text": [
      "          * \n",
      "        * * \n",
      "      * * * \n",
      "    * * * * \n",
      "  * * * * * \n"
     ]
    }
   ],
   "source": [
    "for k in range(1,6):\n",
    "    for i in range(1,7-k):\n",
    "        print(\" \",end=\" \")\n",
    "    if k==1:\n",
    "        print(\"*\",end=\" \")\n",
    "    else:\n",
    "        for j in range(1,k+1):\n",
    "            print(\"*\",end=\" \")\n",
    "    print()"
   ]
  },
  {
   "cell_type": "code",
   "execution_count": 5,
   "id": "ed11cb37",
   "metadata": {},
   "outputs": [
    {
     "name": "stdout",
     "output_type": "stream",
     "text": [
      "5 4 3 2 1 \n",
      "5 4 3 2 \n",
      "5 4 3 \n",
      "5 4 \n",
      "5 \n"
     ]
    }
   ],
   "source": [
    "for k in range(0,5):\n",
    "    for i in range(5,k,-1):\n",
    "        print(i,end=\" \")\n",
    "    print()"
   ]
  },
  {
   "cell_type": "code",
   "execution_count": 9,
   "id": "fca2e28d",
   "metadata": {},
   "outputs": [
    {
     "name": "stdout",
     "output_type": "stream",
     "text": [
      "          1 \n",
      "        1 2 \n",
      "      1 2 3 \n",
      "    1 2 3 4 \n",
      "  1 2 3 4 5 \n"
     ]
    }
   ],
   "source": [
    "for k in range(1,6):\n",
    "    for i in range(1,7-k):\n",
    "        print(\" \",end=\" \")\n",
    "    if k==1:\n",
    "        print(k,end=\" \")\n",
    "    else:\n",
    "        for j in range(1,k+1):\n",
    "              print(j,end=\" \")\n",
    "    print()"
   ]
  },
  {
   "cell_type": "code",
   "execution_count": 22,
   "id": "878307da",
   "metadata": {},
   "outputs": [
    {
     "name": "stdout",
     "output_type": "stream",
     "text": [
      "Enter the stringmadam\n",
      "The given string is palindrome\n"
     ]
    }
   ],
   "source": [
    "#given string is palindrome\n",
    "\n",
    "x=input(\"Enter the string\")\n",
    "if x==x[::-1]:\n",
    "    print(\"The given string is palindrome\")\n",
    "else:\n",
    "    print(\"The given string is not palindrome\")\n"
   ]
  },
  {
   "cell_type": "code",
   "execution_count": null,
   "id": "2069a30a",
   "metadata": {},
   "outputs": [],
   "source": []
  }
 ],
 "metadata": {
  "kernelspec": {
   "display_name": "Python 3 (ipykernel)",
   "language": "python",
   "name": "python3"
  },
  "language_info": {
   "codemirror_mode": {
    "name": "ipython",
    "version": 3
   },
   "file_extension": ".py",
   "mimetype": "text/x-python",
   "name": "python",
   "nbconvert_exporter": "python",
   "pygments_lexer": "ipython3",
   "version": "3.10.9"
  }
 },
 "nbformat": 4,
 "nbformat_minor": 5
}
