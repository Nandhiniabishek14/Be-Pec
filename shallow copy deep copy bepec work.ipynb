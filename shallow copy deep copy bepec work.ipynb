{
 "cells": [
  {
   "cell_type": "code",
   "execution_count": 1,
   "id": "ae763119",
   "metadata": {},
   "outputs": [],
   "source": [
    "list1=[4,5,6,78,90,100,30]\n"
   ]
  },
  {
   "cell_type": "code",
   "execution_count": 2,
   "id": "f94dd3e5",
   "metadata": {},
   "outputs": [],
   "source": [
    "list2=list1\n"
   ]
  },
  {
   "cell_type": "code",
   "execution_count": 3,
   "id": "a12adfab",
   "metadata": {},
   "outputs": [
    {
     "data": {
      "text/plain": [
       "[4, 5, 6, 78, 90, 100, 30]"
      ]
     },
     "execution_count": 3,
     "metadata": {},
     "output_type": "execute_result"
    }
   ],
   "source": [
    "list2"
   ]
  },
  {
   "cell_type": "code",
   "execution_count": 4,
   "id": "e2f45608",
   "metadata": {},
   "outputs": [
    {
     "data": {
      "text/plain": [
       "140228606310400"
      ]
     },
     "execution_count": 4,
     "metadata": {},
     "output_type": "execute_result"
    }
   ],
   "source": [
    "id(list1)"
   ]
  },
  {
   "cell_type": "code",
   "execution_count": 5,
   "id": "f4507c34",
   "metadata": {},
   "outputs": [
    {
     "data": {
      "text/plain": [
       "140228606310400"
      ]
     },
     "execution_count": 5,
     "metadata": {},
     "output_type": "execute_result"
    }
   ],
   "source": [
    "id(list2)"
   ]
  },
  {
   "cell_type": "code",
   "execution_count": 6,
   "id": "c5708bfb",
   "metadata": {},
   "outputs": [],
   "source": [
    "list1[2]='s'"
   ]
  },
  {
   "cell_type": "code",
   "execution_count": 7,
   "id": "5f3f3f38",
   "metadata": {},
   "outputs": [
    {
     "data": {
      "text/plain": [
       "[4, 5, 's', 78, 90, 100, 30]"
      ]
     },
     "execution_count": 7,
     "metadata": {},
     "output_type": "execute_result"
    }
   ],
   "source": [
    "list1"
   ]
  },
  {
   "cell_type": "code",
   "execution_count": 8,
   "id": "2b40cf61",
   "metadata": {},
   "outputs": [
    {
     "data": {
      "text/plain": [
       "[4, 5, 's', 78, 90, 100, 30]"
      ]
     },
     "execution_count": 8,
     "metadata": {},
     "output_type": "execute_result"
    }
   ],
   "source": [
    "list2"
   ]
  },
  {
   "cell_type": "code",
   "execution_count": 9,
   "id": "97b44505",
   "metadata": {},
   "outputs": [
    {
     "data": {
      "text/plain": [
       "140228524477456"
      ]
     },
     "execution_count": 9,
     "metadata": {},
     "output_type": "execute_result"
    }
   ],
   "source": [
    "id(list2[4])\n"
   ]
  },
  {
   "cell_type": "code",
   "execution_count": 10,
   "id": "4f464851",
   "metadata": {},
   "outputs": [
    {
     "data": {
      "text/plain": [
       "140228524477456"
      ]
     },
     "execution_count": 10,
     "metadata": {},
     "output_type": "execute_result"
    }
   ],
   "source": [
    "id(list1[4])"
   ]
  },
  {
   "cell_type": "markdown",
   "id": "d761838e",
   "metadata": {},
   "source": [
    "# shallow copy"
   ]
  },
  {
   "cell_type": "code",
   "execution_count": 14,
   "id": "0111283f",
   "metadata": {},
   "outputs": [],
   "source": [
    "import copy\n",
    "numbers=[10,40,20,50,100,288,99]\n",
    "new_number=copy.copy(numbers)"
   ]
  },
  {
   "cell_type": "code",
   "execution_count": 16,
   "id": "9f587e19",
   "metadata": {},
   "outputs": [
    {
     "data": {
      "text/plain": [
       "[10, 40, 20, 50, 100, 288, 99]"
      ]
     },
     "execution_count": 16,
     "metadata": {},
     "output_type": "execute_result"
    }
   ],
   "source": [
    "new_number"
   ]
  },
  {
   "cell_type": "code",
   "execution_count": 17,
   "id": "d6d53d76",
   "metadata": {},
   "outputs": [
    {
     "data": {
      "text/plain": [
       "140228619661632"
      ]
     },
     "execution_count": 17,
     "metadata": {},
     "output_type": "execute_result"
    }
   ],
   "source": [
    "id(numbers)"
   ]
  },
  {
   "cell_type": "code",
   "execution_count": 18,
   "id": "369640bf",
   "metadata": {},
   "outputs": [
    {
     "data": {
      "text/plain": [
       "140228619503872"
      ]
     },
     "execution_count": 18,
     "metadata": {},
     "output_type": "execute_result"
    }
   ],
   "source": [
    "id(new_number)"
   ]
  },
  {
   "cell_type": "code",
   "execution_count": 19,
   "id": "c47d31f5",
   "metadata": {},
   "outputs": [],
   "source": [
    "numbers[1]='forty'"
   ]
  },
  {
   "cell_type": "code",
   "execution_count": 20,
   "id": "6b5194f2",
   "metadata": {},
   "outputs": [
    {
     "data": {
      "text/plain": [
       "[10, 'forty', 20, 50, 100, 288, 99]"
      ]
     },
     "execution_count": 20,
     "metadata": {},
     "output_type": "execute_result"
    }
   ],
   "source": [
    "numbers"
   ]
  },
  {
   "cell_type": "code",
   "execution_count": 29,
   "id": "84bc6d05",
   "metadata": {},
   "outputs": [
    {
     "data": {
      "text/plain": [
       "[10, 40, 20, 50, 100, 288, 99]"
      ]
     },
     "execution_count": 29,
     "metadata": {},
     "output_type": "execute_result"
    }
   ],
   "source": [
    "new_number"
   ]
  },
  {
   "cell_type": "code",
   "execution_count": 24,
   "id": "1e8cfe73",
   "metadata": {},
   "outputs": [],
   "source": [
    "import copy\n",
    "my_list1=[[1,2,3,4,5,6],[10,11,12,13,14,15]]\n",
    "my_list2=copy.copy(my_list1)"
   ]
  },
  {
   "cell_type": "code",
   "execution_count": 25,
   "id": "c150e3f9",
   "metadata": {},
   "outputs": [
    {
     "data": {
      "text/plain": [
       "[[1, 2, 3, 4, 5, 6], [10, 11, 12, 13, 14, 15]]"
      ]
     },
     "execution_count": 25,
     "metadata": {},
     "output_type": "execute_result"
    }
   ],
   "source": [
    "my_list2"
   ]
  },
  {
   "cell_type": "code",
   "execution_count": 26,
   "id": "b7d76b2d",
   "metadata": {},
   "outputs": [],
   "source": [
    "my_list1[0][1]=\"rr\""
   ]
  },
  {
   "cell_type": "code",
   "execution_count": 27,
   "id": "e3cb3de6",
   "metadata": {},
   "outputs": [
    {
     "data": {
      "text/plain": [
       "[[1, 'rr', 3, 4, 5, 6], [10, 11, 12, 13, 14, 15]]"
      ]
     },
     "execution_count": 27,
     "metadata": {},
     "output_type": "execute_result"
    }
   ],
   "source": [
    "my_list1"
   ]
  },
  {
   "cell_type": "code",
   "execution_count": 28,
   "id": "84384e7b",
   "metadata": {},
   "outputs": [
    {
     "data": {
      "text/plain": [
       "[[1, 'rr', 3, 4, 5, 6], [10, 11, 12, 13, 14, 15]]"
      ]
     },
     "execution_count": 28,
     "metadata": {},
     "output_type": "execute_result"
    }
   ],
   "source": [
    "my_list2"
   ]
  },
  {
   "cell_type": "code",
   "execution_count": 31,
   "id": "e8195b48",
   "metadata": {},
   "outputs": [],
   "source": [
    "my_list3=[6,7,8,9,10]\n",
    "my_list4=copy.copy(my_list3)"
   ]
  },
  {
   "cell_type": "code",
   "execution_count": 32,
   "id": "8e14730e",
   "metadata": {},
   "outputs": [
    {
     "data": {
      "text/plain": [
       "[6, 7, 8, 9, 10]"
      ]
     },
     "execution_count": 32,
     "metadata": {},
     "output_type": "execute_result"
    }
   ],
   "source": [
    "my_list4"
   ]
  },
  {
   "cell_type": "code",
   "execution_count": 33,
   "id": "4b79f3f4",
   "metadata": {},
   "outputs": [],
   "source": [
    "my_list3[2]='ddd'"
   ]
  },
  {
   "cell_type": "code",
   "execution_count": 34,
   "id": "d0367c62",
   "metadata": {},
   "outputs": [
    {
     "data": {
      "text/plain": [
       "[6, 7, 8, 9, 10]"
      ]
     },
     "execution_count": 34,
     "metadata": {},
     "output_type": "execute_result"
    }
   ],
   "source": [
    "my_list4"
   ]
  },
  {
   "cell_type": "code",
   "execution_count": 35,
   "id": "34743bba",
   "metadata": {},
   "outputs": [
    {
     "data": {
      "text/plain": [
       "[6, 7, 'ddd', 9, 10]"
      ]
     },
     "execution_count": 35,
     "metadata": {},
     "output_type": "execute_result"
    }
   ],
   "source": [
    "my_list3"
   ]
  },
  {
   "cell_type": "code",
   "execution_count": 36,
   "id": "75eb8213",
   "metadata": {},
   "outputs": [
    {
     "data": {
      "text/plain": [
       "[6, 7, 'ddd', 9, 10]"
      ]
     },
     "execution_count": 36,
     "metadata": {},
     "output_type": "execute_result"
    }
   ],
   "source": [
    "my_list3"
   ]
  },
  {
   "cell_type": "code",
   "execution_count": 37,
   "id": "0ea9f6f0",
   "metadata": {},
   "outputs": [
    {
     "data": {
      "text/plain": [
       "[6, 7, 8, 9, 10]"
      ]
     },
     "execution_count": 37,
     "metadata": {},
     "output_type": "execute_result"
    }
   ],
   "source": [
    "my_list4"
   ]
  },
  {
   "cell_type": "code",
   "execution_count": 40,
   "id": "e1b5e0b5",
   "metadata": {},
   "outputs": [],
   "source": [
    "my_list3.append([1,10])"
   ]
  },
  {
   "cell_type": "code",
   "execution_count": 41,
   "id": "5373007d",
   "metadata": {},
   "outputs": [
    {
     "data": {
      "text/plain": [
       "[6, 7, 'ddd', 9, 10, [1, 10], [1, 10]]"
      ]
     },
     "execution_count": 41,
     "metadata": {},
     "output_type": "execute_result"
    }
   ],
   "source": [
    "my_list3"
   ]
  },
  {
   "cell_type": "code",
   "execution_count": 42,
   "id": "4b8da540",
   "metadata": {},
   "outputs": [
    {
     "data": {
      "text/plain": [
       "[6, 7, 8, 9, 10]"
      ]
     },
     "execution_count": 42,
     "metadata": {},
     "output_type": "execute_result"
    }
   ],
   "source": [
    "my_list4"
   ]
  },
  {
   "cell_type": "code",
   "execution_count": 43,
   "id": "6cc97be3",
   "metadata": {},
   "outputs": [],
   "source": [
    "numbers=[1,10,30,50,50]#shallow copy in normal list\n",
    "new_numbers=numbers.copy()"
   ]
  },
  {
   "cell_type": "code",
   "execution_count": 44,
   "id": "734b8165",
   "metadata": {},
   "outputs": [
    {
     "data": {
      "text/plain": [
       "[1, 10, 30, 50, 50]"
      ]
     },
     "execution_count": 44,
     "metadata": {},
     "output_type": "execute_result"
    }
   ],
   "source": [
    "new_numbers"
   ]
  },
  {
   "cell_type": "code",
   "execution_count": 45,
   "id": "f7be00d9",
   "metadata": {},
   "outputs": [],
   "source": [
    "new_numbers[1]='ten'"
   ]
  },
  {
   "cell_type": "code",
   "execution_count": 46,
   "id": "bdc4db10",
   "metadata": {},
   "outputs": [
    {
     "data": {
      "text/plain": [
       "[1, 'ten', 30, 50, 50]"
      ]
     },
     "execution_count": 46,
     "metadata": {},
     "output_type": "execute_result"
    }
   ],
   "source": [
    "new_numbers"
   ]
  },
  {
   "cell_type": "code",
   "execution_count": 47,
   "id": "a123e806",
   "metadata": {},
   "outputs": [
    {
     "data": {
      "text/plain": [
       "[1, 10, 30, 50, 50]"
      ]
     },
     "execution_count": 47,
     "metadata": {},
     "output_type": "execute_result"
    }
   ],
   "source": [
    "numbers"
   ]
  },
  {
   "cell_type": "code",
   "execution_count": 48,
   "id": "8a8340e9",
   "metadata": {},
   "outputs": [],
   "source": [
    "numbers[3]='fifty'"
   ]
  },
  {
   "cell_type": "code",
   "execution_count": 49,
   "id": "db49c237",
   "metadata": {},
   "outputs": [
    {
     "data": {
      "text/plain": [
       "[1, 10, 30, 'fifty', 50]"
      ]
     },
     "execution_count": 49,
     "metadata": {},
     "output_type": "execute_result"
    }
   ],
   "source": [
    "numbers"
   ]
  },
  {
   "cell_type": "code",
   "execution_count": 50,
   "id": "b0b20a9f",
   "metadata": {},
   "outputs": [
    {
     "data": {
      "text/plain": [
       "[1, 'ten', 30, 50, 50]"
      ]
     },
     "execution_count": 50,
     "metadata": {},
     "output_type": "execute_result"
    }
   ],
   "source": [
    "new_numbers"
   ]
  },
  {
   "cell_type": "code",
   "execution_count": 52,
   "id": "3fbf7161",
   "metadata": {},
   "outputs": [],
   "source": [
    "numbers1=[[30,50,60],[1,10,19,13]]#shallow copy in the nested list\n",
    "new_number1=numbers1.copy()"
   ]
  },
  {
   "cell_type": "code",
   "execution_count": 53,
   "id": "a0c8168f",
   "metadata": {},
   "outputs": [
    {
     "data": {
      "text/plain": [
       "[[30, 50, 60], [1, 10, 19, 13]]"
      ]
     },
     "execution_count": 53,
     "metadata": {},
     "output_type": "execute_result"
    }
   ],
   "source": [
    "new_number1"
   ]
  },
  {
   "cell_type": "code",
   "execution_count": 54,
   "id": "4563bf32",
   "metadata": {},
   "outputs": [
    {
     "data": {
      "text/plain": [
       "[[30, 50, 60], [1, 10, 19, 13]]"
      ]
     },
     "execution_count": 54,
     "metadata": {},
     "output_type": "execute_result"
    }
   ],
   "source": [
    "numbers1"
   ]
  },
  {
   "cell_type": "code",
   "execution_count": 55,
   "id": "8ad87fc8",
   "metadata": {},
   "outputs": [],
   "source": [
    "new_number1[0][2]='sixty'"
   ]
  },
  {
   "cell_type": "code",
   "execution_count": 56,
   "id": "8d8c8f57",
   "metadata": {},
   "outputs": [
    {
     "data": {
      "text/plain": [
       "[[30, 50, 'sixty'], [1, 10, 19, 13]]"
      ]
     },
     "execution_count": 56,
     "metadata": {},
     "output_type": "execute_result"
    }
   ],
   "source": [
    "new_number1"
   ]
  },
  {
   "cell_type": "code",
   "execution_count": 57,
   "id": "1f4b8b06",
   "metadata": {},
   "outputs": [
    {
     "data": {
      "text/plain": [
       "[[30, 50, 'sixty'], [1, 10, 19, 13]]"
      ]
     },
     "execution_count": 57,
     "metadata": {},
     "output_type": "execute_result"
    }
   ],
   "source": [
    "numbers1"
   ]
  },
  {
   "cell_type": "code",
   "execution_count": 58,
   "id": "7921dea9",
   "metadata": {},
   "outputs": [],
   "source": [
    "new_number1.append([50,60,'six'])"
   ]
  },
  {
   "cell_type": "code",
   "execution_count": 59,
   "id": "8658b22e",
   "metadata": {},
   "outputs": [
    {
     "data": {
      "text/plain": [
       "[[30, 50, 'sixty'], [1, 10, 19, 13], [50, 60, 'six']]"
      ]
     },
     "execution_count": 59,
     "metadata": {},
     "output_type": "execute_result"
    }
   ],
   "source": [
    "new_number1"
   ]
  },
  {
   "cell_type": "code",
   "execution_count": 61,
   "id": "bdcea397",
   "metadata": {},
   "outputs": [
    {
     "data": {
      "text/plain": [
       "[[30, 50, 'sixty'], [1, 10, 19, 13]]"
      ]
     },
     "execution_count": 61,
     "metadata": {},
     "output_type": "execute_result"
    }
   ],
   "source": [
    "numbers1"
   ]
  },
  {
   "cell_type": "code",
   "execution_count": 62,
   "id": "8ea20521",
   "metadata": {},
   "outputs": [],
   "source": [
    "numbers1.append([70,'ten'])"
   ]
  },
  {
   "cell_type": "code",
   "execution_count": 63,
   "id": "39cca9ed",
   "metadata": {},
   "outputs": [
    {
     "data": {
      "text/plain": [
       "[[30, 50, 'sixty'], [1, 10, 19, 13], [70, 'ten']]"
      ]
     },
     "execution_count": 63,
     "metadata": {},
     "output_type": "execute_result"
    }
   ],
   "source": [
    "numbers1"
   ]
  },
  {
   "cell_type": "code",
   "execution_count": 64,
   "id": "e467ea7f",
   "metadata": {},
   "outputs": [
    {
     "data": {
      "text/plain": [
       "[[30, 50, 'sixty'], [1, 10, 19, 13], [50, 60, 'six']]"
      ]
     },
     "execution_count": 64,
     "metadata": {},
     "output_type": "execute_result"
    }
   ],
   "source": [
    "new_number1"
   ]
  },
  {
   "cell_type": "code",
   "execution_count": 67,
   "id": "bf62b23a",
   "metadata": {},
   "outputs": [
    {
     "name": "stdout",
     "output_type": "stream",
     "text": [
      "[[30, 50, 'sixty'], [1, 10, 19, 13], [50, 60, 'six']]\n",
      "[[30, 50, 'sixty'], [1, 10, 19, 13], [70, 'ten']]\n"
     ]
    }
   ],
   "source": [
    "print(new_number1)\n",
    "print(numbers1)"
   ]
  },
  {
   "cell_type": "code",
   "execution_count": 116,
   "id": "02340453",
   "metadata": {},
   "outputs": [
    {
     "name": "stdout",
     "output_type": "stream",
     "text": [
      "The number1: [1, 2, 3, 4, 5, 6]\n",
      "The number2: [1, 2, 3, 4, 5, 6]\n",
      "\n",
      "140228619507648\n",
      "140228619507648\n",
      "140228619662912\n",
      "shallow copy of a list\n",
      "\n",
      "the updated the number2 list\n",
      "The number 1: [1, 'two', 3, 4, 5, 6]\n",
      "The number 2 : [1, 2, 3, 4, 5, 6]\n",
      "\n",
      "The number1: [[1, 2, 3, 4, 5, 6], [10, 19, 18]]\n",
      "The number2: [[1, 2, 3, 4, 5, 6], [10, 19, 18]]\n",
      "\n",
      "shallow copy of a nested  list\n",
      "\n",
      "the updated  number3 list\n",
      "The number 3: [[1, 'Two', 3, 4, 5, 6], [10, 19, 18]]\n",
      "The number 4 : [[1, 'Two', 3, 4, 5, 6], [10, 19, 18]]\n"
     ]
    }
   ],
   "source": [
    "#shallow copy the list\n",
    "num1=[1,2,3,4,5,6]\n",
    "num2=num1.copy()\n",
    "\n",
    "print(\"The number1:\",num1)\n",
    "print(\"The number2:\",num2,end=\"\\n\\n\")\n",
    "print(id(num1))\n",
    "print(id(num1))\n",
    "print(id(num2))\n",
    "num1[1]='two'\n",
    "\n",
    "print(\"shallow copy of a list\",end=\"\\n\\n\")\n",
    "print(\"the updated the number2 list\")\n",
    "print(\"The number 1:\",num1)\n",
    "print(\"The number 2 :\",num2,end=\"\\n\\n\")\n",
    "\n",
    "#shallow copy nested list\n",
    "\n",
    "num3=[[1,2,3,4,5,6],[10,19,18]]\n",
    "num4=num3.copy()\n",
    "\n",
    "print(\"The number1:\",num3)\n",
    "print(\"The number2:\",num4,end=\"\\n\\n\")\n",
    "\n",
    "num3[0][1]=\"Two\"\n",
    "\n",
    "print(\"shallow copy of a nested  list\",end=\"\\n\\n\")\n",
    "print(\"the updated  number3 list\")\n",
    "print(\"The number 3:\",num3)\n",
    "print(\"The number 4 :\",num4)\n",
    "\n",
    "\n"
   ]
  },
  {
   "cell_type": "code",
   "execution_count": 93,
   "id": "230994d2",
   "metadata": {},
   "outputs": [
    {
     "name": "stdout",
     "output_type": "stream",
     "text": [
      "list5: [1, 2, 3, 4, 6, 7, 8]\n",
      "list6 [1, 2, 3, 4, 6, 7, 8]\n",
      "\n",
      "update the list5\n",
      "\n",
      "The list5 after deep copy: [1, 2, 'three', 4, 6, 7, 8]\n",
      "the list6 after deep copy [1, 2, 3, 4, 6, 7, 8]\n",
      "\n",
      "list7: [[1, 2, 3, 4, 6, 7, 8], [10, 100, 200]]\n",
      "list8 [[1, 2, 3, 4, 6, 7, 8], [10, 100, 200]]\n",
      "\n",
      "update the list7\n",
      "\n",
      "The list7 after deep copy: [[1, 2, 3, 'four', 6, 7, 8], [10, 100, 200]]\n",
      "the list8 after deep copy [[1, 2, 3, 4, 6, 7, 8], [10, 100, 200]]\n"
     ]
    }
   ],
   "source": [
    "#deep copy\n",
    "import copy\n",
    "list5=[1,2,3,4,6,7,8]\n",
    "list6=copy.deepcopy(list5)\n",
    "\n",
    "print(\"list5:\",list5)\n",
    "print(\"list6\" ,list6,end=\"\\n\\n\")\n",
    "\n",
    "list5[2]=\"three\"\n",
    "print(\"update the list5\",end=\"\\n\\n\")\n",
    "\n",
    "print(\"The list5 after deep copy:\",list5)\n",
    "print(\"the list6 after deep copy\",list6,end=\"\\n\\n\")\n",
    "\n",
    "#deep copy nested list\n",
    "\n",
    "list7=[[1,2,3,4,6,7,8],[10,100,200]]\n",
    "list8=copy.deepcopy(list7)\n",
    "\n",
    "print(\"list7:\",list7)\n",
    "print(\"list8\" ,list8,end=\"\\n\\n\")\n",
    "\n",
    "list7[0][3]=\"four\"\n",
    "print(\"update the list7\",end=\"\\n\\n\")\n",
    "\n",
    "print(\"The list7 after deep copy:\",list7)\n",
    "print(\"the list8 after deep copy\",list8)"
   ]
  },
  {
   "cell_type": "code",
   "execution_count": null,
   "id": "bef78184",
   "metadata": {},
   "outputs": [],
   "source": []
  }
 ],
 "metadata": {
  "kernelspec": {
   "display_name": "Python 3 (ipykernel)",
   "language": "python",
   "name": "python3"
  },
  "language_info": {
   "codemirror_mode": {
    "name": "ipython",
    "version": 3
   },
   "file_extension": ".py",
   "mimetype": "text/x-python",
   "name": "python",
   "nbconvert_exporter": "python",
   "pygments_lexer": "ipython3",
   "version": "3.10.9"
  }
 },
 "nbformat": 4,
 "nbformat_minor": 5
}
