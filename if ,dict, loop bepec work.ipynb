{
 "cells": [
  {
   "cell_type": "markdown",
   "id": "c2ab5753",
   "metadata": {},
   "source": [
    "# if statement"
   ]
  },
  {
   "cell_type": "code",
   "execution_count": 1,
   "id": "2d675663",
   "metadata": {},
   "outputs": [
    {
     "name": "stdout",
     "output_type": "stream",
     "text": [
      "b is greater\n",
      "1000\n"
     ]
    }
   ],
   "source": [
    "a=900\n",
    "b=1000\n",
    "if a<b:\n",
    "    print(\"b is greater\")\n",
    "    print(b)"
   ]
  },
  {
   "cell_type": "code",
   "execution_count": 2,
   "id": "02cae650",
   "metadata": {},
   "outputs": [
    {
     "name": "stdout",
     "output_type": "stream",
     "text": [
      "b is greater\n"
     ]
    }
   ],
   "source": [
    "a=-44\n",
    "b=24\n",
    "if a>b:\n",
    "    print(\"a is greater:\")\n",
    "elif a==b:\n",
    "    print(\"a is equal to b\")\n",
    "else:\n",
    "    print(\"b is greater\")"
   ]
  },
  {
   "cell_type": "code",
   "execution_count": 3,
   "id": "a321cc0e",
   "metadata": {},
   "outputs": [
    {
     "name": "stdout",
     "output_type": "stream",
     "text": [
      "work more\n"
     ]
    }
   ],
   "source": [
    "salary=9\n",
    "if salary>10:\n",
    "    print(\"goal is achieved\")\n",
    "else:\n",
    "    print(\"work more\")"
   ]
  },
  {
   "cell_type": "code",
   "execution_count": 6,
   "id": "9b3e6c12",
   "metadata": {},
   "outputs": [
    {
     "name": "stdout",
     "output_type": "stream",
     "text": [
      "A\n"
     ]
    }
   ],
   "source": [
    "a=700\n",
    "b=600\n",
    "if a>b:\n",
    "    print(\"A\")\n",
    "elif a==b:\n",
    "    print(\"=\")\n",
    "else:\n",
    "    print(\"B\")\n",
    "        "
   ]
  },
  {
   "cell_type": "code",
   "execution_count": 10,
   "id": "1e76ca6f",
   "metadata": {},
   "outputs": [
    {
     "name": "stdout",
     "output_type": "stream",
     "text": [
      "A is smaller\n"
     ]
    }
   ],
   "source": [
    "a=500 #if both the condition are true it will print the if statement\n",
    "b=600\n",
    "c=50\n",
    "if a>b and a>c:\n",
    "    print(\"A is greater\")\n",
    "    print(A)\n",
    "else:\n",
    "    print(\"A is smaller\")"
   ]
  },
  {
   "cell_type": "code",
   "execution_count": 11,
   "id": "f2b7ed45",
   "metadata": {},
   "outputs": [
    {
     "name": "stdout",
     "output_type": "stream",
     "text": [
      "It is above  30\n",
      "It is also above 40\n"
     ]
    }
   ],
   "source": [
    "x=90\n",
    "\n",
    "if x>=30:\n",
    "    print(\"It is above  30\")\n",
    "if x>40:\n",
    "    print(\"It is also above 40\")\n",
    "else:\n",
    "    print(\"Note above 40\")"
   ]
  },
  {
   "cell_type": "code",
   "execution_count": 12,
   "id": "9062f2de",
   "metadata": {},
   "outputs": [
    {
     "name": "stdout",
     "output_type": "stream",
     "text": [
      "b is greater\n"
     ]
    }
   ],
   "source": [
    "a=500 #if one condition is true it will print the if statement\n",
    "b=600\n",
    "c=50\n",
    "if b>a or c>a:\n",
    "    print(\"b is greater\")\n",
    "    "
   ]
  },
  {
   "cell_type": "code",
   "execution_count": 17,
   "id": "f8c88621",
   "metadata": {},
   "outputs": [
    {
     "name": "stdout",
     "output_type": "stream",
     "text": [
      "Enter the price:10\n",
      "Enter the quantity:1\n",
      "The amount is less than 100\n"
     ]
    }
   ],
   "source": [
    "price=float(input(\"Enter the price:\"))\n",
    "quantity=float(input(\"Enter the quantity:\"))\n",
    "amount=price*quantity\n",
    "\n",
    "if amount>100:\n",
    "    if amount>500:\n",
    "        print(\"The amount if greater than 500\")\n",
    "    elif amount<500 and amount>100:\n",
    "        print(\"The amount is between 100  to 500\")\n",
    "    else:    \n",
    "        print(\"The amount is less than 100\")\n",
    "elif amount==100:\n",
    "    print(\"Amount is equal to 100\")\n",
    "else:\n",
    "    print(\"The amount is less than 100\")\n",
    "    "
   ]
  },
  {
   "cell_type": "code",
   "execution_count": 21,
   "id": "0af8841f",
   "metadata": {},
   "outputs": [
    {
     "name": "stdout",
     "output_type": "stream",
     "text": [
      "Enter the height in meter:1.65\n",
      "Enter the weight in kg:55\n",
      "normal\n"
     ]
    }
   ],
   "source": [
    "height=float(input(\"Enter the height in meter:\"))\n",
    "weight=float(input(\"Enter the weight in kg:\"))\n",
    "bmi=weight/(height**2)\n",
    "             \n",
    "if bmi<16:\n",
    "    print(\"Severe thiness\")\n",
    "elif bmi<=17 and bmi>=16:\n",
    "    print(\"Moderate thiness\")\n",
    "elif bmi>17 and bmi<18.5:\n",
    "    print(\"Mild Thiness\")\n",
    "elif bmi>=18.5 and bmi<25:\n",
    "    print(\"normal\")\n",
    "elif bmi>=25 and bmi<30:\n",
    "    print(\"overweight\")\n",
    "elif bmi>=30 and bmi<35:\n",
    "    print(\"Obese class 1\")\n",
    "elif bmi>=35 and bmi<40:\n",
    "    print(\"obese class 2\")\n",
    "else:\n",
    "    print(\"obese classs 3\")"
   ]
  },
  {
   "cell_type": "markdown",
   "id": "cd41d49d",
   "metadata": {},
   "source": [
    "# dictionary\n"
   ]
  },
  {
   "cell_type": "code",
   "execution_count": 22,
   "id": "9ae7597d",
   "metadata": {},
   "outputs": [],
   "source": [
    "#empty dictionary\n",
    "my_dictt={}\n",
    "\n",
    "#dictionary with integer keys,mixed keys,sequence of pair\n",
    "my_dictt={1:'axe',2:'basket',3:'tree',4:'pen'}"
   ]
  },
  {
   "cell_type": "code",
   "execution_count": 24,
   "id": "d6421759",
   "metadata": {},
   "outputs": [
    {
     "name": "stdout",
     "output_type": "stream",
     "text": [
      "{1: 'axe', 2: 'basket', 3: 'tree', 4: 'pen'}\n"
     ]
    }
   ],
   "source": [
    "print(my_dictt)"
   ]
  },
  {
   "cell_type": "code",
   "execution_count": 25,
   "id": "ea0e5b6d",
   "metadata": {},
   "outputs": [],
   "source": [
    "my_dictt={1:'axe',2:'basket',3:'tree',4:'pen',5:[2,3,4]}"
   ]
  },
  {
   "cell_type": "code",
   "execution_count": 26,
   "id": "e483529f",
   "metadata": {},
   "outputs": [
    {
     "data": {
      "text/plain": [
       "{1: 'axe', 2: 'basket', 3: 'tree', 4: 'pen', 5: [2, 3, 4]}"
      ]
     },
     "execution_count": 26,
     "metadata": {},
     "output_type": "execute_result"
    }
   ],
   "source": [
    "my_dictt"
   ]
  },
  {
   "cell_type": "code",
   "execution_count": 27,
   "id": "b36ab04a",
   "metadata": {},
   "outputs": [
    {
     "name": "stdout",
     "output_type": "stream",
     "text": [
      "{1: 'apple', 2: 'basket'}\n"
     ]
    }
   ],
   "source": [
    "my_dictt1=dict([(1,'apple'),(2,'basket')])\n",
    "print(my_dictt1)"
   ]
  },
  {
   "cell_type": "code",
   "execution_count": 28,
   "id": "1074cf77",
   "metadata": {},
   "outputs": [
    {
     "name": "stdout",
     "output_type": "stream",
     "text": [
      "axe\n"
     ]
    }
   ],
   "source": [
    "print(my_dictt.get(1))"
   ]
  },
  {
   "cell_type": "code",
   "execution_count": 29,
   "id": "55744239",
   "metadata": {},
   "outputs": [
    {
     "name": "stdout",
     "output_type": "stream",
     "text": [
      "apple\n"
     ]
    }
   ],
   "source": [
    "print(my_dictt1.get(1))"
   ]
  },
  {
   "cell_type": "code",
   "execution_count": 30,
   "id": "5f9f51b2",
   "metadata": {},
   "outputs": [],
   "source": [
    "#update\n",
    "my_dictt['6']=[9,10,11]"
   ]
  },
  {
   "cell_type": "code",
   "execution_count": 31,
   "id": "1510a5e2",
   "metadata": {},
   "outputs": [
    {
     "data": {
      "text/plain": [
       "{1: 'axe', 2: 'basket', 3: 'tree', 4: 'pen', 5: [2, 3, 4], '6': [9, 10, 11]}"
      ]
     },
     "execution_count": 31,
     "metadata": {},
     "output_type": "execute_result"
    }
   ],
   "source": [
    "my_dictt"
   ]
  },
  {
   "cell_type": "code",
   "execution_count": 32,
   "id": "ab46acbd",
   "metadata": {},
   "outputs": [
    {
     "name": "stdout",
     "output_type": "stream",
     "text": [
      "basket\n"
     ]
    }
   ],
   "source": [
    "#pop\n",
    "print(my_dictt.pop(2))"
   ]
  },
  {
   "cell_type": "code",
   "execution_count": 33,
   "id": "c5581997",
   "metadata": {},
   "outputs": [
    {
     "name": "stdout",
     "output_type": "stream",
     "text": [
      "('6', [9, 10, 11])\n"
     ]
    }
   ],
   "source": [
    "print(my_dictt.popitem())"
   ]
  },
  {
   "cell_type": "code",
   "execution_count": 34,
   "id": "9bf90d5a",
   "metadata": {},
   "outputs": [],
   "source": [
    "my_dictt1.clear()"
   ]
  },
  {
   "cell_type": "code",
   "execution_count": 36,
   "id": "901a4087",
   "metadata": {},
   "outputs": [
    {
     "data": {
      "text/plain": [
       "{}"
      ]
     },
     "execution_count": 36,
     "metadata": {},
     "output_type": "execute_result"
    }
   ],
   "source": [
    "my_dictt1"
   ]
  },
  {
   "cell_type": "markdown",
   "id": "10bfa715",
   "metadata": {},
   "source": [
    "del my_dicct1"
   ]
  },
  {
   "cell_type": "code",
   "execution_count": 37,
   "id": "cd0708d7",
   "metadata": {},
   "outputs": [],
   "source": [
    "del my_dictt1"
   ]
  },
  {
   "cell_type": "code",
   "execution_count": 38,
   "id": "dda154a4",
   "metadata": {},
   "outputs": [
    {
     "ename": "NameError",
     "evalue": "name 'my_dictt1' is not defined",
     "output_type": "error",
     "traceback": [
      "\u001b[0;31m---------------------------------------------------------------------------\u001b[0m",
      "\u001b[0;31mNameError\u001b[0m                                 Traceback (most recent call last)",
      "Cell \u001b[0;32mIn[38], line 1\u001b[0m\n\u001b[0;32m----> 1\u001b[0m \u001b[43mmy_dictt1\u001b[49m\n",
      "\u001b[0;31mNameError\u001b[0m: name 'my_dictt1' is not defined"
     ]
    }
   ],
   "source": [
    "my_dictt1"
   ]
  },
  {
   "cell_type": "code",
   "execution_count": 39,
   "id": "ffa476c5",
   "metadata": {},
   "outputs": [
    {
     "name": "stdout",
     "output_type": "stream",
     "text": [
      "{1: 'ram', 2: 'har', 3: 'gun', 4: 'run'}\n"
     ]
    }
   ],
   "source": [
    "a={1:'ram',2:'har',3:'sam',4:'run'}\n",
    "a1={3:'gun'}\n",
    "a.update(a1)\n",
    "print(a)"
   ]
  },
  {
   "cell_type": "code",
   "execution_count": 41,
   "id": "cfc1b705",
   "metadata": {},
   "outputs": [
    {
     "name": "stdout",
     "output_type": "stream",
     "text": [
      "{1: 'ram', 2: 'har', 3: 'gun', 4: 'run'}\n"
     ]
    }
   ],
   "source": [
    "a1={1:'ss',2:33}\n",
    "print(a)"
   ]
  },
  {
   "cell_type": "code",
   "execution_count": 42,
   "id": "edf2f0d9",
   "metadata": {},
   "outputs": [],
   "source": [
    "a.update(a1)"
   ]
  },
  {
   "cell_type": "code",
   "execution_count": 44,
   "id": "9e281ebe",
   "metadata": {},
   "outputs": [
    {
     "name": "stdout",
     "output_type": "stream",
     "text": [
      "{1: 'ss', 2: 33, 3: 'gun', 4: 'run'}\n"
     ]
    }
   ],
   "source": [
    "print(a)"
   ]
  },
  {
   "cell_type": "code",
   "execution_count": 45,
   "id": "8e767d7d",
   "metadata": {},
   "outputs": [
    {
     "data": {
      "text/plain": [
       "dict_values(['ss', 33, 'gun', 'run'])"
      ]
     },
     "execution_count": 45,
     "metadata": {},
     "output_type": "execute_result"
    }
   ],
   "source": [
    "#to get the values\n",
    "a.values()"
   ]
  },
  {
   "cell_type": "code",
   "execution_count": 46,
   "id": "2fb7a82d",
   "metadata": {},
   "outputs": [
    {
     "data": {
      "text/plain": [
       "'ss'"
      ]
     },
     "execution_count": 46,
     "metadata": {},
     "output_type": "execute_result"
    }
   ],
   "source": [
    "a.get(1)"
   ]
  },
  {
   "cell_type": "code",
   "execution_count": 47,
   "id": "d0815366",
   "metadata": {},
   "outputs": [
    {
     "ename": "AttributeError",
     "evalue": "'dict' object has no attribute 'item'",
     "output_type": "error",
     "traceback": [
      "\u001b[0;31m---------------------------------------------------------------------------\u001b[0m",
      "\u001b[0;31mAttributeError\u001b[0m                            Traceback (most recent call last)",
      "Cell \u001b[0;32mIn[47], line 1\u001b[0m\n\u001b[0;32m----> 1\u001b[0m \u001b[43ma\u001b[49m\u001b[38;5;241;43m.\u001b[39;49m\u001b[43mitem\u001b[49m()\n",
      "\u001b[0;31mAttributeError\u001b[0m: 'dict' object has no attribute 'item'"
     ]
    }
   ],
   "source": [
    "a.item()"
   ]
  },
  {
   "cell_type": "code",
   "execution_count": 48,
   "id": "a9074e5f",
   "metadata": {},
   "outputs": [
    {
     "data": {
      "text/plain": [
       "dict_items([(1, 'ss'), (2, 33), (3, 'gun'), (4, 'run')])"
      ]
     },
     "execution_count": 48,
     "metadata": {},
     "output_type": "execute_result"
    }
   ],
   "source": [
    "a.items()  #return key value pair"
   ]
  },
  {
   "cell_type": "code",
   "execution_count": 49,
   "id": "234ea381",
   "metadata": {},
   "outputs": [
    {
     "data": {
      "text/plain": [
       "dict_keys([1, 2, 3, 4])"
      ]
     },
     "execution_count": 49,
     "metadata": {},
     "output_type": "execute_result"
    }
   ],
   "source": [
    "a.keys()  #return key "
   ]
  },
  {
   "cell_type": "code",
   "execution_count": 50,
   "id": "392ed399",
   "metadata": {},
   "outputs": [
    {
     "ename": "NameError",
     "evalue": "name 'dict_setdefault' is not defined",
     "output_type": "error",
     "traceback": [
      "\u001b[0;31m---------------------------------------------------------------------------\u001b[0m",
      "\u001b[0;31mNameError\u001b[0m                                 Traceback (most recent call last)",
      "Cell \u001b[0;32mIn[50], line 1\u001b[0m\n\u001b[0;32m----> 1\u001b[0m \u001b[43mdict_setdefault\u001b[49m(\u001b[38;5;241m1\u001b[39m)\n",
      "\u001b[0;31mNameError\u001b[0m: name 'dict_setdefault' is not defined"
     ]
    }
   ],
   "source": [
    "dict_setdefault(1)"
   ]
  },
  {
   "cell_type": "code",
   "execution_count": 52,
   "id": "02e6d038",
   "metadata": {},
   "outputs": [
    {
     "data": {
      "text/plain": [
       "'ss'"
      ]
     },
     "execution_count": 52,
     "metadata": {},
     "output_type": "execute_result"
    }
   ],
   "source": [
    "a.setdefault(1)"
   ]
  },
  {
   "cell_type": "code",
   "execution_count": 54,
   "id": "172b404a",
   "metadata": {},
   "outputs": [
    {
     "name": "stdout",
     "output_type": "stream",
     "text": [
      "{1: {8, 9, 6, 7}, 2: {8, 9, 6, 7}, 3: {8, 9, 6, 7}, 4: {8, 9, 6, 7}, 5: {8, 9, 6, 7}, 6: {8, 9, 6, 7}}\n"
     ]
    }
   ],
   "source": [
    "a={1,2,3,4,5,6}\n",
    "b={6,7,8,9}\n",
    "my_new=dict.fromkeys(a,b)\n",
    "print(my_new)"
   ]
  },
  {
   "cell_type": "code",
   "execution_count": 58,
   "id": "52331c98",
   "metadata": {},
   "outputs": [
    {
     "name": "stdout",
     "output_type": "stream",
     "text": [
      "icici 156\n",
      "nft 172\n",
      "csco 153\n"
     ]
    }
   ],
   "source": [
    "new_stock={'icici':156,'nft':172,'csco':153}\n",
    "for c in new_stock:\n",
    "    print(c,new_stock[c])"
   ]
  },
  {
   "cell_type": "code",
   "execution_count": 60,
   "id": "23b72841",
   "metadata": {},
   "outputs": [
    {
     "name": "stdout",
     "output_type": "stream",
     "text": [
      "icici\n",
      "nft\n",
      "csco\n"
     ]
    }
   ],
   "source": [
    "for i in new_stock:\n",
    "    print(i)"
   ]
  },
  {
   "cell_type": "code",
   "execution_count": 61,
   "id": "da2415c3",
   "metadata": {},
   "outputs": [],
   "source": [
    "#nested dictionary\n",
    "\n",
    "users={'user1':{'name':'rane','age':27,'sex':'male'},'user2':{'name':'sam','age':28,'sex':'female'}}"
   ]
  },
  {
   "cell_type": "code",
   "execution_count": 62,
   "id": "864d7d93",
   "metadata": {},
   "outputs": [
    {
     "data": {
      "text/plain": [
       "{'user1': {'name': 'rane', 'age': 27, 'sex': 'male'},\n",
       " 'user2': {'name': 'sam', 'age': 28, 'sex': 'female'}}"
      ]
     },
     "execution_count": 62,
     "metadata": {},
     "output_type": "execute_result"
    }
   ],
   "source": [
    "users"
   ]
  },
  {
   "cell_type": "code",
   "execution_count": 66,
   "id": "05f73aea",
   "metadata": {},
   "outputs": [
    {
     "name": "stdout",
     "output_type": "stream",
     "text": [
      "27\n"
     ]
    }
   ],
   "source": [
    "print(users['user1']['age'])"
   ]
  },
  {
   "cell_type": "code",
   "execution_count": 72,
   "id": "f5d6a6b1",
   "metadata": {},
   "outputs": [
    {
     "name": "stdout",
     "output_type": "stream",
     "text": [
      "[{'user1': {'name': 'rane', 'age': 27, 'sex': 'male'}, 'user2': {'name': 'sam', 'age': 28, 'sex': 'female'}}]\n"
     ]
    }
   ],
   "source": [
    "users1=[{'user1': {'name': 'rane', 'age': 27, 'sex': 'male'},\n",
    " 'user2': {'name': 'sam', 'age': 28, 'sex': 'female'}}]\n",
    "print(users1)"
   ]
  },
  {
   "cell_type": "code",
   "execution_count": 73,
   "id": "0dc78a2d",
   "metadata": {},
   "outputs": [
    {
     "data": {
      "text/plain": [
       "{'user1': {'name': 'rane', 'age': 27, 'sex': 'male'},\n",
       " 'user2': {'name': 'sam', 'age': 28, 'sex': 'female'}}"
      ]
     },
     "execution_count": 73,
     "metadata": {},
     "output_type": "execute_result"
    }
   ],
   "source": [
    "users1[0]"
   ]
  },
  {
   "cell_type": "code",
   "execution_count": 76,
   "id": "bf704f55",
   "metadata": {},
   "outputs": [
    {
     "data": {
      "text/plain": [
       "'rane'"
      ]
     },
     "execution_count": 76,
     "metadata": {},
     "output_type": "execute_result"
    }
   ],
   "source": [
    "users1[0]['user1']['name']"
   ]
  },
  {
   "cell_type": "markdown",
   "id": "02c8c02c",
   "metadata": {},
   "source": [
    "# loops in python"
   ]
  },
  {
   "cell_type": "code",
   "execution_count": 78,
   "id": "6463577b",
   "metadata": {},
   "outputs": [
    {
     "name": "stdout",
     "output_type": "stream",
     "text": [
      "2\n",
      "3\n",
      "4\n",
      "5\n"
     ]
    }
   ],
   "source": [
    "i=2\n",
    "while i<6:\n",
    "    print(i)\n",
    "    i=i+1"
   ]
  },
  {
   "cell_type": "code",
   "execution_count": 79,
   "id": "de180ed6",
   "metadata": {},
   "outputs": [
    {
     "name": "stdout",
     "output_type": "stream",
     "text": [
      "1\n",
      "2\n"
     ]
    }
   ],
   "source": [
    "i=1\n",
    "while i<6:\n",
    "    if i==3:\n",
    "        break\n",
    "    print(i)\n",
    "    i+=1\n",
    "    "
   ]
  },
  {
   "cell_type": "code",
   "execution_count": 80,
   "id": "38cc82f6",
   "metadata": {},
   "outputs": [
    {
     "name": "stdout",
     "output_type": "stream",
     "text": [
      "1\n",
      "2\n",
      "4\n",
      "5\n",
      "6\n"
     ]
    }
   ],
   "source": [
    "i=0\n",
    "while i<6:\n",
    "    i+=1\n",
    "    if i==3:\n",
    "        continue\n",
    "    print(i)\n",
    "    "
   ]
  },
  {
   "cell_type": "code",
   "execution_count": 81,
   "id": "09751adb",
   "metadata": {},
   "outputs": [
    {
     "name": "stdout",
     "output_type": "stream",
     "text": [
      "1\n",
      "2\n",
      "3\n"
     ]
    }
   ],
   "source": [
    "i=1\n",
    "while i<6:\n",
    "    print(i)\n",
    "    if i==3:\n",
    "        break\n",
    "    i+=1\n",
    "    "
   ]
  },
  {
   "cell_type": "code",
   "execution_count": 84,
   "id": "031ad718",
   "metadata": {},
   "outputs": [
    {
     "name": "stdout",
     "output_type": "stream",
     "text": [
      "mi\n",
      "oppo\n"
     ]
    }
   ],
   "source": [
    "device=['mi','oppo','vivo','samsung','pixel']\n",
    "for x in device:\n",
    "    print(x)\n",
    "    if x=='oppo':\n",
    "        break\n",
    "        "
   ]
  },
  {
   "cell_type": "code",
   "execution_count": 85,
   "id": "8a2b86a7",
   "metadata": {},
   "outputs": [
    {
     "name": "stdout",
     "output_type": "stream",
     "text": [
      "mi\n",
      "oppo\n",
      "vivo\n",
      "samsung\n",
      "pixel\n"
     ]
    }
   ],
   "source": [
    "device=['mi','oppo','vivo','samsung','pixel']\n",
    "for x in device:\n",
    "    print(x)\n",
    "    if x=='oppo':\n",
    "        continue\n",
    "        "
   ]
  },
  {
   "cell_type": "code",
   "execution_count": 86,
   "id": "74e1f9ac",
   "metadata": {},
   "outputs": [
    {
     "data": {
      "text/plain": [
       "range(0, 6)"
      ]
     },
     "execution_count": 86,
     "metadata": {},
     "output_type": "execute_result"
    }
   ],
   "source": [
    "range(6)"
   ]
  },
  {
   "cell_type": "code",
   "execution_count": 88,
   "id": "ef9cf05e",
   "metadata": {},
   "outputs": [
    {
     "name": "stdout",
     "output_type": "stream",
     "text": [
      "0\n",
      "1\n",
      "2\n",
      "3\n",
      "4\n",
      "5\n",
      "6\n",
      "7\n",
      "8\n"
     ]
    }
   ],
   "source": [
    "for x in range(0,9):\n",
    "    \n",
    "    print(x)"
   ]
  },
  {
   "cell_type": "code",
   "execution_count": 90,
   "id": "8cccf2d5",
   "metadata": {},
   "outputs": [
    {
     "name": "stdout",
     "output_type": "stream",
     "text": [
      "2\n",
      "3\n",
      "4\n",
      "5\n"
     ]
    }
   ],
   "source": [
    "for x in range(2,6):\n",
    "    print(x)"
   ]
  },
  {
   "cell_type": "code",
   "execution_count": 92,
   "id": "2e10b620",
   "metadata": {},
   "outputs": [
    {
     "name": "stdout",
     "output_type": "stream",
     "text": [
      "1\n",
      "3\n",
      "5\n",
      "7\n",
      "9\n"
     ]
    }
   ],
   "source": [
    "for x in range(1,10,2):\n",
    "    print(x)"
   ]
  },
  {
   "cell_type": "code",
   "execution_count": 93,
   "id": "ff3efa5f",
   "metadata": {},
   "outputs": [
    {
     "name": "stdout",
     "output_type": "stream",
     "text": [
      "1\n",
      "4\n",
      "7\n",
      "10\n",
      "13\n",
      "16\n",
      "19\n",
      "22\n",
      "25\n",
      "28\n"
     ]
    }
   ],
   "source": [
    "for x in range(1,30,3):\n",
    "    print(x)\n",
    "    if x==15:\n",
    "        break"
   ]
  },
  {
   "cell_type": "code",
   "execution_count": null,
   "id": "2220eeed",
   "metadata": {},
   "outputs": [],
   "source": []
  }
 ],
 "metadata": {
  "kernelspec": {
   "display_name": "Python 3 (ipykernel)",
   "language": "python",
   "name": "python3"
  },
  "language_info": {
   "codemirror_mode": {
    "name": "ipython",
    "version": 3
   },
   "file_extension": ".py",
   "mimetype": "text/x-python",
   "name": "python",
   "nbconvert_exporter": "python",
   "pygments_lexer": "ipython3",
   "version": "3.10.9"
  }
 },
 "nbformat": 4,
 "nbformat_minor": 5
}
